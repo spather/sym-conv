{
 "cells": [
  {
   "cell_type": "raw",
   "metadata": {},
   "source": [
    "---\n",
    "title: \"Convolution with Symbols\"\n",
    "format:\n",
    "  html:\n",
    "    anchor-sections: true\n",
    "    highlight-style: atom-one\n",
    "---"
   ]
  },
  {
   "cell_type": "code",
   "execution_count": null,
   "metadata": {},
   "outputs": [],
   "source": [
    "# | echo: false\n",
    "# | output: false\n",
    "from fastcore.test import *\n",
    "from IPython import get_ipython\n",
    "from IPython.display import display, Markdown, YouTubeVideo\n",
    "from manim import *\n",
    "import math\n",
    "import numpy as np\n",
    "from scipy.signal import convolve2d\n",
    "from sympy import (\n",
    "    Add,\n",
    "    Derivative,\n",
    "    Expr,\n",
    "    Function,\n",
    "    Indexed,\n",
    "    IndexedBase,\n",
    "    latex,\n",
    "    Mul,\n",
    "    Symbol,\n",
    "    symbols,\n",
    ")\n",
    "from typing import Dict, Iterable, List, Optional, Sequence, Tuple, Type"
   ]
  },
  {
   "attachments": {},
   "cell_type": "markdown",
   "metadata": {},
   "source": [
    "## Motivation\n",
    "The deep learning classes I've taken have all followed a similar progression:\n",
    "\n",
    "1. First, you learn to do the math by hand, using symbols (the input vector is $x$, the weight matrix is $W$, $z = Wx + b$, etc)\n",
    "2. Next, you write code to implement the math numerically (manipulating arrays or tensors of numbers). At this stage, you write it from scratch using just NumPy arrays.\n",
    "3. Finally, you graduate to writing code that uses deep learning frameworks like TensorFlow and PyTorch. \n",
    "\n",
    "Step 1 teaches you the theory, and step 3 teaches you the tools that real practitioners use. Step 2 in between teaches you what those tools are doing so you don't approach them as black boxes. I'm a fan. \n",
    "\n",
    "I recently took a class on Convolutional Neural Networks. While it followed this progression, it didn't teach the math for back propagation through convolutional layers. I tried to work this out for myself and found that the math wasn't hard, but it was tedious (long expressions, lots of superscripts and subscripts to keep track of). In trying to explore ways to automate some of the tedious parts, I think I found an approach that re-organizes things so that step 2 (writing the code from scratch) borrows an idea from step 3 (automatic differentiation) and as a result, actually helps with step 1 (understanding the math).\n",
    "\n",
    "### Automatic Differentiation as a Convenience\n",
    "In the usual progression, the big change between steps 2 and 3 is that the deep learning frameworks give you automatic differentiation capabilities ([`GradientTape`](https://www.tensorflow.org/guide/autodiff) in TensorFlow, [`autograd`](https://pytorch.org/tutorials/beginner/blitz/autograd_tutorial.html) in PyTorch). When you write a neural network from scratch, you write the forward and backward passes as separate algorithms that share some data. With auto differentiation, you to write just the forward pass logic and you get the backward pass for free. The framework keeps track of the operations performed in the forward pass and can calculate the partial derivatives required for back propagation automatically. \n",
    "\n",
    "Auto differentiation reduces the amount of code you need to write to implement a neural network but it isn't a learning tool. It does its job numerically: given the numerical value of the gradient at some node in a computation graph, you can get the numerical value of the gradient at earlier nodes, but you can't see the derivatives expressed symbolically. You get the answer but the framework doesn't show its work. Classes introduce auto differentiation frameworks late in the curriculum because they're a convenience you earn the right to use after you've worked through the math the hard way. \n",
    "\n",
    "### Automatic Differentiation as a Learning Tool\n",
    "My approach is a hybrid: implementing algorithms from scratch but using a symbolic framework that can auto differentiate while showing its work. It really helped me with my task of deriving the backprop equations for convolutions. This technique isn't a replacement for doing math by hand and I wouldn't blindly trust it, but it helped me learn. It automated the math that's easy but tedious to work through by hand, and helped me visualize the patterns behind the equations. \n",
    "\n",
    "In this notebook, I'll walk you through what I did. "
   ]
  },
  {
   "cell_type": "code",
   "execution_count": null,
   "metadata": {},
   "outputs": [],
   "source": [
    "#| echo: false\n",
    "config.media_embed = True"
   ]
  },
  {
   "attachments": {},
   "cell_type": "markdown",
   "metadata": {},
   "source": [
    "## Convolutions from Scratch\n",
    "\n",
    "After my CNN course covered the basic math, the first coding exercise was to implement the convolution operation from scratch, using just NumPy (step 2 in the progression I mentioned earlier). Below is the convolution* function I implemented. It's probably not the most efficient implementation, but writing it was a good learning exercise. \n",
    "\n",
    ">\\*I'm aware that, mathematically speaking, what I'm implementing here is actually *cross-correlation* rather than convolution. [This article](https://towardsdatascience.com/convolution-vs-correlation-af868b6b4fb5) offers a good description of the differences. tl;dr: in true mathematical convolution, you're supposed to flip the kernel 180° before applying it. But in deep learning, the kernel weights are learned during training so the orientation is not meaningful. Deep-learning practitioners don't seem to worry about the distinction between convolution and cross-correlation, so I'm going with it. "
   ]
  },
  {
   "cell_type": "code",
   "execution_count": null,
   "metadata": {},
   "outputs": [],
   "source": [
    "def convolve(X: np.ndarray, filter: np.ndarray, zero_pad_width: int, stride: int):\n",
    "    X_pad = np.pad(\n",
    "        X,\n",
    "        ((zero_pad_width, zero_pad_width), (zero_pad_width, zero_pad_width)),\n",
    "        mode='constant',\n",
    "        constant_values=(0.0, 0.0),\n",
    "    )\n",
    "\n",
    "    in_H, in_W = X.shape\n",
    "    f, f = filter.shape\n",
    "\n",
    "    out_H = int((in_H + (2 * zero_pad_width) - f) / stride) + 1\n",
    "    out_W = int((in_W + (2 * zero_pad_width) - f) / stride) + 1\n",
    "\n",
    "    output = np.zeros((out_H, out_W), dtype=X.dtype)\n",
    "\n",
    "    for out_row in range(out_H):\n",
    "        for out_col in range(out_W):\n",
    "            in_start_row = out_row * stride\n",
    "            in_start_col = out_col * stride\n",
    "            output[out_row][out_col] = sum(\n",
    "                (\n",
    "                    X_pad[in_row][in_col] * filter[i][j]\n",
    "                    for i, in_row in enumerate(range(in_start_row, in_start_row + f))\n",
    "                    for j, in_col in enumerate(range(in_start_col, in_start_col + f))\n",
    "                )\n",
    "            )\n",
    "\n",
    "    return output"
   ]
  },
  {
   "attachments": {},
   "cell_type": "markdown",
   "metadata": {},
   "source": [
    "We can test it with some sample data:"
   ]
  },
  {
   "cell_type": "code",
   "execution_count": null,
   "metadata": {},
   "outputs": [],
   "source": [
    "X_test = np.array(\n",
    "    [\n",
    "        [1.0, 2.0, 3.0, 4.0,],\n",
    "        [1.0, 2.0, 3.0, 4.0,],\n",
    "        [1.0, 2.0, 3.0, 4.0,],\n",
    "        [1.0, 2.0, 3.0, 4.0,],\n",
    "    ]\n",
    ")\n",
    "\n",
    "\n",
    "f_test = np.array(\n",
    "    [\n",
    "        [0.0, 1.0,],\n",
    "        [1.0, 0.0,],\n",
    "    ]\n",
    ")\n",
    "\n",
    "expected = np.array(\n",
    "    [\n",
    "        [3.0, 5.0, 7.0], \n",
    "        [3.0, 5.0, 7.0], \n",
    "        [3.0, 5.0, 7.0]\n",
    "    ]\n",
    ")\n",
    "\n",
    "test_eq(convolve(X_test, f_test, 0, 1), expected)"
   ]
  },
  {
   "attachments": {},
   "cell_type": "markdown",
   "metadata": {},
   "source": [
    "And it also happens to give the same answer as SciPy's [`convolve2d()`](https://docs.scipy.org/doc/scipy/reference/generated/scipy.signal.convolve2d.html) function!"
   ]
  },
  {
   "cell_type": "code",
   "execution_count": null,
   "metadata": {},
   "outputs": [],
   "source": [
    "# Test output of our convolve function is consistent with scipy\n",
    "test_eq(\n",
    "    convolve(X_test, f_test, 0, 1), # ours\n",
    "    convolve2d(X_test, f_test, mode='valid') # scipy\n",
    ")"
   ]
  },
  {
   "attachments": {},
   "cell_type": "markdown",
   "metadata": {},
   "source": [
    "## Numeric vs Symbolic Computing\n",
    "In the examples above, the convolution function is a numeric algorithm: it takes numbers as inputs and produces numbers as output. This is exactly what we'd want when building a neural network that we'd actually train and use. \n",
    "\n",
    "In contrast to numerical algorithms, symbolic computing involves manipulating expressions made of symbols rather than just numbers. [SymPy](https://www.sympy.org/en/index.html) is an open-source symbolic expression library for Python. It lets programs express and manipulate symbolic mathematical expressions. For example:"
   ]
  },
  {
   "cell_type": "code",
   "execution_count": null,
   "metadata": {},
   "outputs": [
    {
     "data": {
      "text/latex": [
       "$\\displaystyle 2 x + 3$"
      ],
      "text/plain": [
       "2*x + 3"
      ]
     },
     "execution_count": null,
     "metadata": {},
     "output_type": "execute_result"
    }
   ],
   "source": [
    "x = Symbol('x')\n",
    "\n",
    "expr = 2*x + 3\n",
    "\n",
    "# expr now contains the expression 2x + 3\n",
    "expr"
   ]
  },
  {
   "attachments": {},
   "cell_type": "markdown",
   "metadata": {},
   "source": [
    "SymPy implements a lot of basic math: core operators, simplification, expansion etc. A few more examples:"
   ]
  },
  {
   "cell_type": "code",
   "execution_count": null,
   "metadata": {},
   "outputs": [
    {
     "name": "stdout",
     "output_type": "stream",
     "text": [
      "2x + 4x = \n"
     ]
    },
    {
     "data": {
      "text/latex": [
       "$\\displaystyle 6 x$"
      ],
      "text/plain": [
       "6*x"
      ]
     },
     "metadata": {},
     "output_type": "display_data"
    },
    {
     "name": "stdout",
     "output_type": "stream",
     "text": [
      "(2x + 3) - (x + 1) = \n"
     ]
    },
    {
     "data": {
      "text/latex": [
       "$\\displaystyle x + 2$"
      ],
      "text/plain": [
       "x + 2"
      ]
     },
     "metadata": {},
     "output_type": "display_data"
    }
   ],
   "source": [
    "# Simplification 2x + 4x = 6x:\n",
    "expr = 2*x + 4*x\n",
    "print(\"2x + 4x = \")\n",
    "display(expr)\n",
    "\n",
    "# Simplification (2x + 3) - (x + 1) = x + 2\n",
    "expr1 = 2*x + 3\n",
    "expr2 = x + 1\n",
    "print(\"(2x + 3) - (x + 1) = \")\n",
    "display(expr1 - expr2)"
   ]
  },
  {
   "attachments": {},
   "cell_type": "markdown",
   "metadata": {},
   "source": [
    "SymPy can even do calculus, but we'll look at that in more detail later. \n",
    "\n",
    "For now, my point is that symbolic computing lets us perform operations and see the expressions that result. This isn't of any use in a production neural network but it can be a useful learning tool, as I'll show. \n",
    "\n"
   ]
  },
  {
   "attachments": {},
   "cell_type": "markdown",
   "metadata": {},
   "source": [
    "## Convolution with Symbols\n",
    "It turns out, the [same convolution code](#convolutions-from-scratch) works just as well when the contents of the input arrays are SymPy symbols instead of numbers:"
   ]
  },
  {
   "cell_type": "code",
   "execution_count": null,
   "metadata": {},
   "outputs": [
    {
     "data": {
      "text/plain": [
       "array([[w_{11}*x_{11} + w_{12}*x_{12} + w_{21}*x_{21} + w_{22}*x_{22},\n",
       "        w_{11}*x_{12} + w_{12}*x_{13} + w_{21}*x_{22} + w_{22}*x_{23},\n",
       "        w_{11}*x_{13} + w_{12}*x_{14} + w_{21}*x_{23} + w_{22}*x_{24}],\n",
       "       [w_{11}*x_{21} + w_{12}*x_{22} + w_{21}*x_{31} + w_{22}*x_{32},\n",
       "        w_{11}*x_{22} + w_{12}*x_{23} + w_{21}*x_{32} + w_{22}*x_{33},\n",
       "        w_{11}*x_{23} + w_{12}*x_{24} + w_{21}*x_{33} + w_{22}*x_{34}],\n",
       "       [w_{11}*x_{31} + w_{12}*x_{32} + w_{21}*x_{41} + w_{22}*x_{42},\n",
       "        w_{11}*x_{32} + w_{12}*x_{33} + w_{21}*x_{42} + w_{22}*x_{43},\n",
       "        w_{11}*x_{33} + w_{12}*x_{34} + w_{21}*x_{43} + w_{22}*x_{44}]],\n",
       "      dtype=object)"
      ]
     },
     "execution_count": null,
     "metadata": {},
     "output_type": "execute_result"
    }
   ],
   "source": [
    "X_test = np.array([\n",
    "    [Symbol(r'x_{11}'), Symbol(r'x_{12}'), Symbol(r'x_{13}'), Symbol(r'x_{14}'),],\n",
    "    [Symbol(r'x_{21}'), Symbol(r'x_{22}'), Symbol(r'x_{23}'), Symbol(r'x_{24}'),],\n",
    "    [Symbol(r'x_{31}'), Symbol(r'x_{32}'), Symbol(r'x_{33}'), Symbol(r'x_{34}'),],\n",
    "    [Symbol(r'x_{41}'), Symbol(r'x_{42}'), Symbol(r'x_{43}'), Symbol(r'x_{44}'),],\n",
    "])\n",
    "\n",
    "\n",
    "f_test = np.array([\n",
    "    [Symbol(r'w_{11}'), Symbol(r'w_{12}'),],\n",
    "    [Symbol(r'w_{21}'), Symbol(r'w_{22}')],\n",
    "])\n",
    "result = convolve(X_test, f_test, 0, 1)\n",
    "result"
   ]
  },
  {
   "attachments": {},
   "cell_type": "markdown",
   "metadata": {},
   "source": [
    "Each element of the output array is now an _expression_ in terms of the input symbols that defines how that element is calculated. We can pretty-print the first-one to see it better:"
   ]
  },
  {
   "cell_type": "code",
   "execution_count": null,
   "metadata": {},
   "outputs": [
    {
     "data": {
      "text/latex": [
       "$\\displaystyle w_{11} x_{11} + w_{12} x_{12} + w_{21} x_{21} + w_{22} x_{22}$"
      ],
      "text/plain": [
       "w_{11}*x_{11} + w_{12}*x_{12} + w_{21}*x_{21} + w_{22}*x_{22}"
      ]
     },
     "execution_count": null,
     "metadata": {},
     "output_type": "execute_result"
    }
   ],
   "source": [
    "result[0][0]"
   ]
  },
  {
   "attachments": {},
   "cell_type": "markdown",
   "metadata": {},
   "source": [
    "This is exactly the expression for the first element of the convolution output. If you overlaid the filter on the top-left corner of the input matrix and then multiplied elements and summed the products, this is the expression you'd get. A little helper function will make it easier to see the whole matrix of expressions:  "
   ]
  },
  {
   "cell_type": "code",
   "execution_count": null,
   "metadata": {},
   "outputs": [],
   "source": [
    "# | code-fold: true\n",
    "# | code-summary: matrix_to_markdown() helper function\n",
    "def matrix_to_markdown(matrix: np.ndarray) -> str:\n",
    "    h, w = matrix.shape\n",
    "    elements = (r'\\\\' + '\\n').join(\n",
    "        [' & '.join([latex(matrix[i][j]) for j in range(w)]) for i in range(h)]\n",
    "    )\n",
    "\n",
    "    markdown = '$$' r'\\begin{bmatrix}' + '\\n' + elements + r'\\end{bmatrix}' + '\\n' '$$'\n",
    "    return markdown"
   ]
  },
  {
   "cell_type": "code",
   "execution_count": null,
   "metadata": {},
   "outputs": [
    {
     "data": {
      "text/markdown": [
       "$$\\begin{bmatrix}\n",
       "w_{11} x_{11} + w_{12} x_{12} + w_{21} x_{21} + w_{22} x_{22} & w_{11} x_{12} + w_{12} x_{13} + w_{21} x_{22} + w_{22} x_{23} & w_{11} x_{13} + w_{12} x_{14} + w_{21} x_{23} + w_{22} x_{24}\\\\\n",
       "w_{11} x_{21} + w_{12} x_{22} + w_{21} x_{31} + w_{22} x_{32} & w_{11} x_{22} + w_{12} x_{23} + w_{21} x_{32} + w_{22} x_{33} & w_{11} x_{23} + w_{12} x_{24} + w_{21} x_{33} + w_{22} x_{34}\\\\\n",
       "w_{11} x_{31} + w_{12} x_{32} + w_{21} x_{41} + w_{22} x_{42} & w_{11} x_{32} + w_{12} x_{33} + w_{21} x_{42} + w_{22} x_{43} & w_{11} x_{33} + w_{12} x_{34} + w_{21} x_{43} + w_{22} x_{44}\\end{bmatrix}\n",
       "$$"
      ],
      "text/plain": [
       "<IPython.core.display.Markdown object>"
      ]
     },
     "execution_count": null,
     "metadata": {},
     "output_type": "execute_result"
    }
   ],
   "source": [
    "Markdown(matrix_to_markdown(result))"
   ]
  },
  {
   "attachments": {},
   "cell_type": "markdown",
   "metadata": {},
   "source": [
    "Each element of the result matrix contains the expression that computes it from the symbols in the inputs. And we got this by running the same convolution function that originally worked with numbers. "
   ]
  },
  {
   "attachments": {},
   "cell_type": "markdown",
   "metadata": {},
   "source": [
    "### How Does This Work?\n",
    "The [convolution code](#convolutions-from-scratch) uses the `*` operator on the elements of the input arrays and the calls `sum()` built-in function (which uses `+` implicitly) over the products. When input arrays contained numbers, these operations performed the expected numerical operations. "
   ]
  },
  {
   "cell_type": "code",
   "execution_count": null,
   "metadata": {},
   "outputs": [
    {
     "data": {
      "text/plain": [
       "2.0"
      ]
     },
     "execution_count": null,
     "metadata": {},
     "output_type": "execute_result"
    }
   ],
   "source": [
    "# Simplified version of what convolve() does:\n",
    "x11 = 1.0\n",
    "x12 = 2.0\n",
    "w11 = 0.0\n",
    "w12 = 1.0\n",
    "sum([x11*w11, x12*w12])"
   ]
  },
  {
   "attachments": {},
   "cell_type": "markdown",
   "metadata": {},
   "source": [
    "\n",
    "SymPy implements all the basic Python math operators (`+`. `-`, `*`, `/`, and more) on `Symbol`s and other expression types. So when we passed symbols to `convolve()`, all the multiplying and adding just invoked SymPy's implementations of those operators, which produce expressions rather than numerical results. "
   ]
  },
  {
   "cell_type": "code",
   "execution_count": null,
   "metadata": {},
   "outputs": [
    {
     "data": {
      "text/latex": [
       "$\\displaystyle w_{11} x_{11} + w_{12} x_{12}$"
      ],
      "text/plain": [
       "w_{11}*x_{11} + w_{12}*x_{12}"
      ]
     },
     "execution_count": null,
     "metadata": {},
     "output_type": "execute_result"
    }
   ],
   "source": [
    "# Simplified version of what convolve() does:\n",
    "x11 = Symbol(r'x_{11}')\n",
    "x12 = Symbol(r'x_{12}')\n",
    "w11 = Symbol(r'w_{11}')\n",
    "w12 = Symbol(r'w_{12}')\n",
    "sum([x11*w11, x12*w12])"
   ]
  },
  {
   "attachments": {},
   "cell_type": "markdown",
   "metadata": {},
   "source": [
    "### Indexed Objects\n",
    "Before continuing, I want to make one improvement to the way we're creating the matrices of symbols. In the code above, I created each `Symbol` in the matrices manually. Obviously, a couple of nested `for`-loops would accomplish this with less typing. \n",
    "\n",
    "But beyond that, notice that each symbol name contains its row and column index. SymPy actually has support for the concept of an [Indexed Object](https://docs.sympy.org/latest/modules/tensor/indexed.html#module-sympy.tensor.indexed) that makes it a little easier to extract the indices later when doing reflection. So I created a helper function that creates arrays of indexed symbols:"
   ]
  },
  {
   "cell_type": "code",
   "execution_count": null,
   "metadata": {},
   "outputs": [],
   "source": [
    "def ndarray_of_indexed_base(\n",
    "    ib: IndexedBase, shape: Tuple[int, int], transform=lambda x: x\n",
    ") -> np.ndarray:\n",
    "    rows, cols = shape\n",
    "    data = [\n",
    "        [transform(ib[i, j]) for j in range(1, cols + 1)] for i in range(1, rows + 1)\n",
    "    ]\n",
    "    return np.array(data, dtype=object)"
   ]
  },
  {
   "attachments": {},
   "cell_type": "markdown",
   "metadata": {},
   "source": [
    "With this helper, I can create the equivalent of the `X_test` matrix above with just one line:"
   ]
  },
  {
   "cell_type": "code",
   "execution_count": null,
   "metadata": {},
   "outputs": [
    {
     "data": {
      "text/plain": [
       "array([[x[1, 1], x[1, 2], x[1, 3], x[1, 4]],\n",
       "       [x[2, 1], x[2, 2], x[2, 3], x[2, 4]],\n",
       "       [x[3, 1], x[3, 2], x[3, 3], x[3, 4]],\n",
       "       [x[4, 1], x[4, 2], x[4, 3], x[4, 4]]], dtype=object)"
      ]
     },
     "execution_count": null,
     "metadata": {},
     "output_type": "execute_result"
    }
   ],
   "source": [
    "X_test = ndarray_of_indexed_base(IndexedBase('x'), (4, 4))\n",
    "X_test"
   ]
  },
  {
   "attachments": {},
   "cell_type": "markdown",
   "metadata": {},
   "source": [
    "The representation looks a little different but it's essentially still a matrix of symbols. Our helper function can make it more readable:"
   ]
  },
  {
   "cell_type": "code",
   "execution_count": null,
   "metadata": {},
   "outputs": [
    {
     "data": {
      "text/markdown": [
       "$$\\begin{bmatrix}\n",
       "{x}_{1,1} & {x}_{1,2} & {x}_{1,3} & {x}_{1,4}\\\\\n",
       "{x}_{2,1} & {x}_{2,2} & {x}_{2,3} & {x}_{2,4}\\\\\n",
       "{x}_{3,1} & {x}_{3,2} & {x}_{3,3} & {x}_{3,4}\\\\\n",
       "{x}_{4,1} & {x}_{4,2} & {x}_{4,3} & {x}_{4,4}\\end{bmatrix}\n",
       "$$"
      ],
      "text/plain": [
       "<IPython.core.display.Markdown object>"
      ]
     },
     "execution_count": null,
     "metadata": {},
     "output_type": "execute_result"
    }
   ],
   "source": [
    "Markdown(matrix_to_markdown(X_test))"
   ]
  },
  {
   "attachments": {},
   "cell_type": "markdown",
   "metadata": {},
   "source": [
    "The reason we want to use Indexed Objects for our symbols is that it's easier to extract the indices and the name of the \"base\" (the thing being indexed):"
   ]
  },
  {
   "cell_type": "code",
   "execution_count": null,
   "metadata": {},
   "outputs": [],
   "source": [
    "# Test accessing the indices (note that we use zero-based indices to access \n",
    "# the array but the conceptual matrix indices are 1-based.)\n",
    "test_eq(X_test[0][0].indices, (1, 1))\n",
    "\n",
    "# Test getting the name of the base. \n",
    "test_eq(X_test[0][0].base.name, 'x')"
   ]
  },
  {
   "attachments": {},
   "cell_type": "markdown",
   "metadata": {},
   "source": [
    "The ability to easily pull out the base name and indices of a symbol will come in handy later when we analyze expressions. "
   ]
  },
  {
   "attachments": {},
   "cell_type": "markdown",
   "metadata": {},
   "source": [
    "## Example from a Convolutional Neural Network\n",
    "\n",
    "Let's assume we've got a convolutional layer, somewhere in the middle of a CNN. To make things simple, I imagined the second layer of a CNN ($\\mathcal{l} = 2$) and that I'd be dealing with:\n",
    "\n",
    "* the activations from the previous layer, $a^{[1]}$\n",
    "* the weights for the convolution kernel in the current layer, $W^{[2]}$\n",
    "* the bias for the current layer, $b^{[2]}$\n",
    "* the output from the convolution operation and adding the bias, $z^{[2]}$\n",
    "\n",
    ">The diagram below, as well as diagrams and animations later in this notebook, are created in code, using [Manim](https://www.manim.community/). The first folded code cell below contains some common drawing functions that will be used throughout. The second one renders the diagram that follows. I won't be explaining the drawing code in detail and you can safely ignore it."
   ]
  },
  {
   "cell_type": "code",
   "execution_count": null,
   "metadata": {},
   "outputs": [],
   "source": [
    "# | code-fold: true\n",
    "\n",
    "\n",
    "def arrange_items_and_labels(\n",
    "    scene: Scene,\n",
    "    items: Sequence[Mobject],\n",
    "    labels: Sequence[Tuple[Mobject, Mobject]],\n",
    "    intra_item_buffer: float = 0.5,\n",
    "):\n",
    "    g = Group(*items).arrange_in_grid(rows=1, cols=len(items), buff=intra_item_buffer)\n",
    "    scene.add(g)\n",
    "\n",
    "    if len(labels) == 0:\n",
    "        return\n",
    "\n",
    "    # All subsequent labels will be bottom-aligned to the first one.\n",
    "    # So position it relative to its item with some buffer before\n",
    "    # dealing with the rest of the labels.\n",
    "    anchor_item, anchor_label = labels[0]\n",
    "    anchor_label.next_to(anchor_item, direction=DOWN, buff=0.5)\n",
    "    scene.add(anchor_label)\n",
    "\n",
    "    for i in range(1, len(labels)):\n",
    "        item, label = labels[i]\n",
    "        label.next_to(item, direction=DOWN)\n",
    "        label.align_to(anchor_label, direction=DOWN)\n",
    "        scene.add(label)\n",
    "\n",
    "\n",
    "# Turn latex() into a ufunc\n",
    "latex_ufunc = np.frompyfunc(latex, 1, 1)\n",
    "\n",
    "\n",
    "def create_math_table(\n",
    "    array_of_symbols: np.ndarray, cell_size: Tuple[float, float]\n",
    ") -> MathTable:\n",
    "    table = MathTable(latex_ufunc(array_of_symbols), include_outer_lines=True)\n",
    "    h, w = array_of_symbols.shape\n",
    "    cell_height, cell_width = cell_size\n",
    "    table.height = h * cell_height\n",
    "    table.width = w * cell_width\n",
    "    return table\n",
    "\n",
    "\n",
    "def draw_convolution_operation(\n",
    "    scene: Scene,\n",
    "    a1: np.ndarray,\n",
    "    W2: np.ndarray,\n",
    "    z2: np.ndarray,\n",
    "    cell_size: Tuple[float, float] = (0.38, 0.67),\n",
    "    intra_item_buffer: float = 0.5,\n",
    "):\n",
    "    # Create wrapper so we don't have to type cell_size in every call\n",
    "    math_table = lambda arr: create_math_table(arr, cell_size)\n",
    "\n",
    "    a1_view = math_table(a1)\n",
    "    W2_view = math_table(W2)\n",
    "    z2_view = math_table(z2)\n",
    "\n",
    "    arrange_items_and_labels(\n",
    "        scene=scene,\n",
    "        items=[\n",
    "            a1_view,\n",
    "            Text('*'),\n",
    "            W2_view,\n",
    "            Text('+'),\n",
    "            MathTex(r'b^{[2]}'),\n",
    "            Text('='),\n",
    "            z2_view,\n",
    "        ],\n",
    "        labels=[\n",
    "            (a1_view, MathTex(r'a^{[1]}')),\n",
    "            (W2_view, MathTex(r'W^{[2]}')),\n",
    "            (z2_view, MathTex(r'z^{[2]}')),\n",
    "        ],\n",
    "        intra_item_buffer=intra_item_buffer,\n",
    "    )\n",
    "    return a1_view, W2_view, z2_view\n",
    "\n",
    "\n",
    "def create_ellipsis(radius: float = 0.075, color=WHITE):\n",
    "    return VGroup(\n",
    "        Circle(radius=radius, color=color),\n",
    "        Circle(radius=radius, color=color),\n",
    "        Circle(radius=radius, color=color),\n",
    "    ).arrange(direction=RIGHT)\n",
    "\n",
    "\n",
    "def render_final_frame(scene_class: Type, quality: str = 'ql'):\n",
    "    get_ipython().run_cell_magic(\n",
    "        'manim',\n",
    "        f'-v WARNING --progress_bar None -{quality} -s --disable_caching {scene_class.__name__}',\n",
    "        '# dummy',\n",
    "    )\n",
    "\n",
    "def render_video(scene_class: Type, quality: str = 'qm'):\n",
    "    get_ipython().run_cell_magic(\n",
    "        'manim',\n",
    "        f'-v WARNING --progress_bar None -{quality} --disable_caching {scene_class.__name__}',\n",
    "        '# dummy',\n",
    "    )"
   ]
  },
  {
   "cell_type": "code",
   "execution_count": null,
   "metadata": {},
   "outputs": [],
   "source": [
    "# | code-fold: true\n",
    "\n",
    "\n",
    "class NetworkDiagram(Scene):\n",
    "    def construct(self):\n",
    "        a1 = ndarray_of_indexed_base(IndexedBase(r'a^{[1]}'), (6, 6))\n",
    "        W2 = ndarray_of_indexed_base(IndexedBase(r'W^{[2]}'), (3, 3))\n",
    "        z2 = ndarray_of_indexed_base(IndexedBase(r'z^{[2]}'), (4, 4))\n",
    "\n",
    "        a1_view, _, z2_view = draw_convolution_operation(\n",
    "            scene=self,\n",
    "            a1=a1,\n",
    "            W2=W2,\n",
    "            z2=z2,\n",
    "            cell_size=(0.25, 0.5),\n",
    "            intra_item_buffer=0.2,\n",
    "        )\n",
    "\n",
    "        before_ellipsis = create_ellipsis()\n",
    "        before_ellipsis.next_to(a1_view, direction=LEFT, buff=0.6)\n",
    "        self.add(before_ellipsis)\n",
    "        self.add(\n",
    "            Text(\"earlier layers\")\n",
    "            .scale(0.4)\n",
    "            .next_to(before_ellipsis, direction=DOWN, buff=0.25)\n",
    "        )\n",
    "\n",
    "        after_ellipsis = create_ellipsis()\n",
    "        after_ellipsis.next_to(z2_view, direction=RIGHT, buff=0.6)\n",
    "        self.add(after_ellipsis)\n",
    "        self.add(\n",
    "            Text(\"later layers\")\n",
    "            .scale(0.4)\n",
    "            .next_to(after_ellipsis, direction=DOWN, buff=0.25)\n",
    "        )"
   ]
  },
  {
   "cell_type": "code",
   "execution_count": null,
   "metadata": {},
   "outputs": [
    {
     "data": {
      "image/png": "[encoded data removed]",
      "text/plain": [
       "<IPython.core.display.Image object>"
      ]
     },
     "metadata": {},
     "output_type": "display_data"
    }
   ],
   "source": [
    "#| echo: false\n",
    "render_final_frame(NetworkDiagram)"
   ]
  },
  {
   "attachments": {},
   "cell_type": "markdown",
   "metadata": {},
   "source": [
    "\n",
    "For simplicity, I'm assuming $a^{[1]}$ has just one channel, there's just a single $W^{[2]}$ filter, and we're looking at just a single training example.\n",
    "The following few lines of code implement the forward pass calculation of $z^{[2]}$ for our layer of interest:"
   ]
  },
  {
   "cell_type": "code",
   "execution_count": null,
   "metadata": {},
   "outputs": [],
   "source": [
    "a1 = ndarray_of_indexed_base(IndexedBase(r'a^{[1]}'), (6, 6))\n",
    "W2 = ndarray_of_indexed_base(IndexedBase(r'W^{[2]}'), (3, 3))\n",
    "b2 = symbols(r'b^{[2]}')\n",
    "z2 = convolve(a1, W2, 0, 1) + b2"
   ]
  },
  {
   "attachments": {},
   "cell_type": "markdown",
   "metadata": {},
   "source": [
    "We can examine the elements of `z2` to see that they represent the expressions we'd expect. E.g., the first element is:"
   ]
  },
  {
   "cell_type": "code",
   "execution_count": null,
   "metadata": {},
   "outputs": [
    {
     "data": {
      "text/latex": [
       "$\\displaystyle b^{[2]} + {W^{[2]}}_{1,1} {a^{[1]}}_{1,1} + {W^{[2]}}_{1,2} {a^{[1]}}_{1,2} + {W^{[2]}}_{1,3} {a^{[1]}}_{1,3} + {W^{[2]}}_{2,1} {a^{[1]}}_{2,1} + {W^{[2]}}_{2,2} {a^{[1]}}_{2,2} + {W^{[2]}}_{2,3} {a^{[1]}}_{2,3} + {W^{[2]}}_{3,1} {a^{[1]}}_{3,1} + {W^{[2]}}_{3,2} {a^{[1]}}_{3,2} + {W^{[2]}}_{3,3} {a^{[1]}}_{3,3}$"
      ],
      "text/plain": [
       "b^{[2]} + W^{[2]}[1, 1]*a^{[1]}[1, 1] + W^{[2]}[1, 2]*a^{[1]}[1, 2] + W^{[2]}[1, 3]*a^{[1]}[1, 3] + W^{[2]}[2, 1]*a^{[1]}[2, 1] + W^{[2]}[2, 2]*a^{[1]}[2, 2] + W^{[2]}[2, 3]*a^{[1]}[2, 3] + W^{[2]}[3, 1]*a^{[1]}[3, 1] + W^{[2]}[3, 2]*a^{[1]}[3, 2] + W^{[2]}[3, 3]*a^{[1]}[3, 3]"
      ]
     },
     "execution_count": null,
     "metadata": {},
     "output_type": "execute_result"
    }
   ],
   "source": [
    "z2[0][0]"
   ]
  },
  {
   "attachments": {},
   "cell_type": "markdown",
   "metadata": {},
   "source": [
    "This is exactly the sum of the weights multiplied by the corresponding elements in the left corner of the input matrix, plus the bias term. Similarly, the next element of `z2` contains the expression for the next convolution output (notice the $a^{[1]}$ column indices are shifted over by one):"
   ]
  },
  {
   "cell_type": "code",
   "execution_count": null,
   "metadata": {},
   "outputs": [
    {
     "data": {
      "text/latex": [
       "$\\displaystyle b^{[2]} + {W^{[2]}}_{1,1} {a^{[1]}}_{1,2} + {W^{[2]}}_{1,2} {a^{[1]}}_{1,3} + {W^{[2]}}_{1,3} {a^{[1]}}_{1,4} + {W^{[2]}}_{2,1} {a^{[1]}}_{2,2} + {W^{[2]}}_{2,2} {a^{[1]}}_{2,3} + {W^{[2]}}_{2,3} {a^{[1]}}_{2,4} + {W^{[2]}}_{3,1} {a^{[1]}}_{3,2} + {W^{[2]}}_{3,2} {a^{[1]}}_{3,3} + {W^{[2]}}_{3,3} {a^{[1]}}_{3,4}$"
      ],
      "text/plain": [
       "b^{[2]} + W^{[2]}[1, 1]*a^{[1]}[1, 2] + W^{[2]}[1, 2]*a^{[1]}[1, 3] + W^{[2]}[1, 3]*a^{[1]}[1, 4] + W^{[2]}[2, 1]*a^{[1]}[2, 2] + W^{[2]}[2, 2]*a^{[1]}[2, 3] + W^{[2]}[2, 3]*a^{[1]}[2, 4] + W^{[2]}[3, 1]*a^{[1]}[3, 2] + W^{[2]}[3, 2]*a^{[1]}[3, 3] + W^{[2]}[3, 3]*a^{[1]}[3, 4]"
      ]
     },
     "execution_count": null,
     "metadata": {},
     "output_type": "execute_result"
    }
   ],
   "source": [
    "z2[0][1]"
   ]
  },
  {
   "attachments": {},
   "cell_type": "markdown",
   "metadata": {},
   "source": [
    "If we wanted to visualize this expression, one way to do it would be to draw the three matrices, $a^{[1]}$, $W^{[2]}$, and $z^{[2]}$, and highlight the elements of $a^{[1]}$ and $W^{[2]}$ that are multiplied together to produce a given element of $z^{[2]}$. "
   ]
  },
  {
   "cell_type": "code",
   "execution_count": null,
   "metadata": {},
   "outputs": [],
   "source": [
    "#| code-fold: true\n",
    "\n",
    "class HardCodedHighlights(Scene):\n",
    "    def construct(self):\n",
    "        # Construct matrices and do the convolution\n",
    "        a1 = ndarray_of_indexed_base(IndexedBase(r'a^{[1]}'), (6, 6))\n",
    "        W2 = ndarray_of_indexed_base(IndexedBase(r'W^{[2]}'), (3, 3))\n",
    "        b2 = symbols(r'b^{[2]}')\n",
    "        z2 = convolve(a1, W2, 0, 1) + b2\n",
    "\n",
    "        a1_view, W2_view, z2_view = draw_convolution_operation(\n",
    "            scene=self,\n",
    "            a1=a1,\n",
    "            W2=W2,\n",
    "            z2=ndarray_of_indexed_base(IndexedBase(r'z^{[2]}'), z2.shape)\n",
    "        )\n",
    "\n",
    "        # Map matrix names to views\n",
    "        array_to_view_map = {\n",
    "            r'a^{[1]}': a1_view,\n",
    "            r'W^{[2]}': W2_view,\n",
    "            r'z^{[2]}': z2_view,\n",
    "        }\n",
    "\n",
    "        # Map of cells to highlight\n",
    "        highlights_map = {\n",
    "            r'W^{[2]}': [(1, 1), (1, 2), (1, 3), (2, 1), (2, 2), (2, 3), (3, 1), (3, 2), (3, 3)], \n",
    "            r'a^{[1]}': [(1, 2), (1, 3), (1, 4), (2, 2), (2, 3), (2, 4), (3, 2), (3, 3), (3, 4)],\n",
    "        }\n",
    "\n",
    "        # Highlight cells in the highlight map\n",
    "        for matrix, cell_list in highlights_map.items():\n",
    "            view = array_to_view_map[matrix]\n",
    "            for cell in cell_list:\n",
    "                highlight = view.get_cell(cell, color=YELLOW).scale(0.7)\n",
    "                self.add(highlight)\n",
    "\n",
    "        # Highlight the output cell\n",
    "        self.add(z2_view.get_highlighted_cell((1, 2), color=TEAL_A))\n"
   ]
  },
  {
   "cell_type": "code",
   "execution_count": null,
   "metadata": {},
   "outputs": [
    {
     "data": {
      "image/png": "[encoded data removed]",
      "text/plain": [
       "<IPython.core.display.Image object>"
      ]
     },
     "metadata": {},
     "output_type": "display_data"
    }
   ],
   "source": [
    "#| echo: false\n",
    "render_final_frame(HardCodedHighlights)"
   ]
  },
  {
   "attachments": {},
   "cell_type": "markdown",
   "metadata": {},
   "source": [
    ">In this visualization and all the others that follow, the \"output element\" (the element of the convolution result being computed) is highlighted in teal, and the elements of the inputs being multiplied together are outlined in yellow. In the example above, to compute element $z^{[2]}_{1, 2}$ (highlighted in teal), we multiply the elements of $W^{[2]}$ with the elements of $a^{[1]}$ outlined in yellow. \n",
    "\n",
    "In the code that generated this image, I hardcoded the cells to highlight:\n",
    "\n",
    "```python\n",
    "        # Map of cells to highlight\n",
    "        highlights_map = {\n",
    "            r'W^{[2]}': [(1, 1), (1, 2), (1, 3), (2, 1), (2, 2), (2, 3), (3, 1), (3, 2), (3, 3)], \n",
    "            r'a^{[1]}': [(1, 2), (1, 3), (1, 4), (2, 2), (2, 3), (2, 4), (3, 2), (3, 3), (3, 4)],\n",
    "        }\n",
    "```\n",
    "\n",
    "It turns out we can generate this highlights map directly from an expression like:\n",
    "\n",
    "$$\n",
    "{W^{[2]}}_{1,1} {a^{[1]}}_{1,2} + {W^{[2]}}_{1,2} {a^{[1]}}_{1,3} + {W^{[2]}}_{1,3} {a^{[1]}}_{1,4} + {W^{[2]}}_{2,1} {a^{[1]}}_{2,2} + {W^{[2]}}_{2,2} {a^{[1]}}_{2,3} + {W^{[2]}}_{2,3} {a^{[1]}}_{2,4} + {W^{[2]}}_{3,1} {a^{[1]}}_{3,2} + {W^{[2]}}_{3,2} {a^{[1]}}_{3,3} + {W^{[2]}}_{3,3} {a^{[1]}}_{3,4}\n",
    "$$\n",
    "\n",
    "Because that expression is also a data structure. SymPy represents expressions as trees: details are in the [documentation](https://docs.sympy.org/latest/tutorials/intro-tutorial/manipulation.html) but the basic idea is that every expression object has a `func` attribute and an `args` attribute that (roughly) correspond to the operator and operands respectively. A few examples:"
   ]
  },
  {
   "cell_type": "code",
   "execution_count": null,
   "metadata": {},
   "outputs": [],
   "source": [
    "x = Symbol('x')\n",
    "expr = 2 + x\n",
    "\n",
    "# The expressions's `func` is Add\n",
    "test_eq(expr.func, Add)\n",
    "\n",
    "# It's `args` are 2 and x\n",
    "test_eq(expr.args, (2, x))"
   ]
  },
  {
   "attachments": {},
   "cell_type": "markdown",
   "metadata": {},
   "source": [
    "Using `func` and `args` to reflect over expressions, we can write a function that takes an expression and returns a dictionary where the keys are matrix names, and the values are lists of indices to highlight. "
   ]
  },
  {
   "cell_type": "code",
   "execution_count": null,
   "metadata": {},
   "outputs": [],
   "source": [
    "def build_highlights_map(expr: Expr) -> Dict[str, List[Tuple]]:\n",
    "    # The expression needs to be either a sum of products or a single product\n",
    "    assert expr.func == Add or expr.func == Mul\n",
    "\n",
    "    # If it's an Add, assert all args are Muls\n",
    "    if expr.func == Add:\n",
    "        assert all(arg.func == Mul for arg in expr.args)\n",
    "\n",
    "    # We want the list of multiplications. This is either a list consisting\n",
    "    # of just the expression itself if it's a Mul or its arguments if it's\n",
    "    # an Add.\n",
    "    muls = [expr] if expr.func == Mul else expr.args\n",
    "\n",
    "    results = {}\n",
    "    for expr in muls:\n",
    "        # Assert all the args are Indexed\n",
    "        assert all(arg.func == Indexed for arg in expr.args)\n",
    "\n",
    "        for indexed in expr.args:\n",
    "            if indexed.base.name not in results:\n",
    "                results[indexed.base.name] = []\n",
    "            results[indexed.base.name].append(indexed.indices)    \n",
    "    return results"
   ]
  },
  {
   "attachments": {},
   "cell_type": "markdown",
   "metadata": {},
   "source": [
    "This function makes a lot of assumptions that it's dealing with expressions that are just sums of products of `Indexed` objects, but it suffices for now. We can test it with one of the expressions in the `z2` array:"
   ]
  },
  {
   "cell_type": "code",
   "execution_count": null,
   "metadata": {},
   "outputs": [
    {
     "data": {
      "text/plain": [
       "{'W^{[2]}': [(1, 1),\n",
       "  (1, 2),\n",
       "  (1, 3),\n",
       "  (2, 1),\n",
       "  (2, 2),\n",
       "  (2, 3),\n",
       "  (3, 1),\n",
       "  (3, 2),\n",
       "  (3, 3)],\n",
       " 'a^{[1]}': [(1, 2),\n",
       "  (1, 3),\n",
       "  (1, 4),\n",
       "  (2, 2),\n",
       "  (2, 3),\n",
       "  (2, 4),\n",
       "  (3, 2),\n",
       "  (3, 3),\n",
       "  (3, 4)]}"
      ]
     },
     "execution_count": null,
     "metadata": {},
     "output_type": "execute_result"
    }
   ],
   "source": [
    "build_highlights_map(z2[0][1]-b2) # Subtract off b2 because we aren't interested in the bias term for now."
   ]
  },
  {
   "attachments": {},
   "cell_type": "markdown",
   "metadata": {},
   "source": [
    "Now, we can incorporate that into a Manim scene and add some animation to go through all of the expressions in `z2`."
   ]
  },
  {
   "cell_type": "code",
   "execution_count": null,
   "metadata": {},
   "outputs": [],
   "source": [
    "# | code-fold: true\n",
    "\n",
    "# Some config knobs for the animations\n",
    "FADE_IN_TIME = 0.5\n",
    "FADE_OUT_TIME = 0.3\n",
    "WAIT_TIME = 0.5\n",
    "\n",
    "# Turn build_highlights_map into a ufunc\n",
    "build_highlights_map_ufunc = np.frompyfunc(build_highlights_map, 1, 1)\n",
    "\n",
    "\n",
    "# Helper function to do the animation\n",
    "def animate_highlights_map(\n",
    "    scene: Scene,\n",
    "    highlight_maps: np.ndarray,\n",
    "    output_view: Mobject,\n",
    "    array_to_view_map: Dict[str, Mobject],\n",
    "):\n",
    "    h, w = highlight_maps.shape\n",
    "    for i in range(h):\n",
    "        for j in range(w):\n",
    "            highlight = output_view.get_highlighted_cell((i + 1, j + 1), color=TEAL_A)\n",
    "            anims_in = [FadeIn(highlight, run_time=FADE_IN_TIME)]\n",
    "            anims_out = [FadeOut(highlight, run_time=FADE_OUT_TIME)]\n",
    "\n",
    "            for matrix, cell_list in highlight_maps[i][j].items():\n",
    "                view = array_to_view_map[matrix]\n",
    "                for cell in cell_list:\n",
    "                    highlight = view.get_cell(cell, color=YELLOW).scale(0.7)\n",
    "\n",
    "                    anims_in.append(FadeIn(highlight, run_time=FADE_IN_TIME))\n",
    "                    anims_out.append(FadeOut(highlight, run_time=FADE_IN_TIME))\n",
    "\n",
    "            scene.play(*anims_in)\n",
    "            scene.wait(WAIT_TIME)\n",
    "            scene.play(*anims_out)\n",
    "\n",
    "\n",
    "class ConvolutionForward(Scene):\n",
    "    def construct(self):\n",
    "        # Construct matrices and do the convolution\n",
    "        a1 = ndarray_of_indexed_base(IndexedBase(r'a^{[1]}'), (6, 6))\n",
    "        W2 = ndarray_of_indexed_base(IndexedBase(r'W^{[2]}'), (3, 3))\n",
    "        b2 = symbols(r'b^{[2]}')\n",
    "        z2 = convolve(a1, W2, 0, 1) + b2\n",
    "\n",
    "        a1_view, W2_view, z2_view = draw_convolution_operation(\n",
    "            scene=self,\n",
    "            a1=a1,\n",
    "            W2=W2,\n",
    "            z2=ndarray_of_indexed_base(IndexedBase(r'z^{[2]}'), z2.shape),\n",
    "        )\n",
    "\n",
    "        # Map matrix names to views\n",
    "        array_to_view_map = {\n",
    "            r'a^{[1]}': a1_view,\n",
    "            r'W^{[2]}': W2_view,\n",
    "            r'z^{[2]}': z2_view,\n",
    "        }\n",
    "\n",
    "        # Build highlight map for all elements of z2\n",
    "        highlight_maps = build_highlights_map_ufunc(z2 - b2)\n",
    "\n",
    "        animate_highlights_map(self, highlight_maps, z2_view, array_to_view_map)"
   ]
  },
  {
   "cell_type": "code",
   "execution_count": null,
   "metadata": {},
   "outputs": [],
   "source": [
    "# | echo: false\n",
    "render_video(ConvolutionForward)"
   ]
  },
  {
   "attachments": {},
   "cell_type": "markdown",
   "metadata": {},
   "source": [
    "This produces a video. To keep the notebook small, I've not embedded it directly, but the YouTube version below shows the output. This is a working animation of a convolution, generated directly from the expressions used to compute it. "
   ]
  },
  {
   "cell_type": "code",
   "execution_count": null,
   "metadata": {},
   "outputs": [
    {
     "data": {
      "image/jpeg": "[encoded data removed]",
      "text/html": [
       "\n",
       "        <iframe\n",
       "            width=\"400\"\n",
       "            height=\"300\"\n",
       "            src=\"https://www.youtube.com/embed/Y7eoO3hZQYY?loop=1&mute=1&playlist=Y7eoO3hZQYY&autoplay=1\"\n",
       "            frameborder=\"0\"\n",
       "            allowfullscreen\n",
       "            allow=\"autoplay\"\n",
       "        ></iframe>\n",
       "        "
      ],
      "text/plain": [
       "<IPython.lib.display.YouTubeVideo>"
      ]
     },
     "execution_count": null,
     "metadata": {},
     "output_type": "execute_result"
    }
   ],
   "source": [
    "#| echo: false\n",
    "video_id = 'Y7eoO3hZQYY'\n",
    "YouTubeVideo(video_id, allow_autoplay=True, loop=1, mute=1, playlist=video_id)"
   ]
  },
  {
   "attachments": {},
   "cell_type": "markdown",
   "metadata": {},
   "source": [
    "### Other Forms of Convolution\n",
    "Because the drawing logic is driven purely off the expressions, it's trivial to visualize other forms of the convolution. For example, if we wanted to see what it looks like with padding set to 2 (making this a [full convolution](https://ai.stackexchange.com/a/27780)), we'd just need to change the value of the `zero_pad_width` param in the call to `convolve()` and everything else* works the same:"
   ]
  },
  {
   "cell_type": "code",
   "execution_count": null,
   "metadata": {},
   "outputs": [],
   "source": [
    "# | code-fold: true\n",
    "\n",
    "class FullConvolutionForward(Scene):\n",
    "    def construct(self):\n",
    "        # Construct matrices and do the convolution\n",
    "        a1 = ndarray_of_indexed_base(IndexedBase(r'a^{[1]}'), (6, 6))\n",
    "        W2 = ndarray_of_indexed_base(IndexedBase(r'W^{[2]}'), (3, 3))\n",
    "        b2 = symbols(r'b^{[2]}')\n",
    "        z2 = convolve(a1, W2, W2.shape[0] - 1, 1) + b2\n",
    "\n",
    "        a1_view, W2_view, z2_view = draw_convolution_operation(\n",
    "            scene=self,\n",
    "            a1=a1,\n",
    "            W2=W2,\n",
    "            z2=ndarray_of_indexed_base(IndexedBase(r'z^{[2]}'), z2.shape),\n",
    "            intra_item_buffer=0.2\n",
    "        )\n",
    "\n",
    "        # Map matrix names to views\n",
    "        array_to_view_map = {\n",
    "            r'a^{[1]}': a1_view,\n",
    "            r'W^{[2]}': W2_view,\n",
    "            r'z^{[2]}': z2_view,\n",
    "        }\n",
    "\n",
    "        # Build highlight map for all elements of z2\n",
    "        highlight_maps = build_highlights_map_ufunc(z2 - b2)\n",
    "\n",
    "        animate_highlights_map(self, highlight_maps, z2_view, array_to_view_map)\n",
    "    "
   ]
  },
  {
   "cell_type": "code",
   "execution_count": null,
   "metadata": {},
   "outputs": [],
   "source": [
    "# | echo: false\n",
    "render_video(FullConvolutionForward)"
   ]
  },
  {
   "cell_type": "code",
   "execution_count": null,
   "metadata": {},
   "outputs": [
    {
     "data": {
      "image/jpeg": "[encoded data removed]",
      "text/html": [
       "\n",
       "        <iframe\n",
       "            width=\"400\"\n",
       "            height=\"300\"\n",
       "            src=\"https://www.youtube.com/embed/Svs0BM8Gsok?loop=1&mute=1&playlist=Svs0BM8Gsok&autoplay=1\"\n",
       "            frameborder=\"0\"\n",
       "            allowfullscreen\n",
       "            allow=\"autoplay\"\n",
       "        ></iframe>\n",
       "        "
      ],
      "text/plain": [
       "<IPython.lib.display.YouTubeVideo>"
      ]
     },
     "execution_count": null,
     "metadata": {},
     "output_type": "execute_result"
    }
   ],
   "source": [
    "#| echo: false\n",
    "video_id = 'Svs0BM8Gsok'\n",
    "YouTubeVideo(video_id, allow_autoplay=True, loop=1, mute=1, playlist=video_id)"
   ]
  },
  {
   "attachments": {},
   "cell_type": "markdown",
   "metadata": {},
   "source": [
    ">*Well, one small change was needed: in order to accommodate the larger output matrix, I reduced the spacing between the objects. But nothing else in the drawing logic changed. \n",
    "\n",
    "This doesn't show the padding on $a^{[1]}$ - remember that it's just highlighting which cells are multiplied together - but this is enough to see the effect of the padding. It's like $W^{[2]}$ starts positioned so that only it's bottom-right element overlaps with the top-left element of $a^{[1]}$, and then progresses to the right, then down, all the way until only its top-right element is overlaid with $a^{[1]}$'s bottom-right element. \n",
    "\n",
    "The change to the `zero_pad_width` parameter to `convolve()` resulted in different expressions in the output matrix and the visualization code simply rendered those. "
   ]
  },
  {
   "attachments": {},
   "cell_type": "markdown",
   "metadata": {},
   "source": [
    "## Reality Check\n",
    "\n",
    "At this point, I hope at least some readers think this is cool. But others of you may be thinking, \"Hang on. You ran a process that recorded its steps in a data structure (albeit a weird one), then you pulled out those steps from the data structure and replayed them visually. You could have just made the convolution code output the highlights map directly and skipped the expression stuff altogether.\"\n",
    "\n",
    "This is fair. But, the special thing about using expressions is that SymPy knows how to do calculus and it can differentiate those expressions for us. Please hold for what comes next."
   ]
  },
  {
   "attachments": {},
   "cell_type": "markdown",
   "metadata": {},
   "source": [
    "## Backprop through Convolutions\n",
    "\n",
    "The calculation of $z^{[2]}$ we've looked at so far is part of the forward pass of a CNN. In the rest of the forward pass, $z^{[2]}$ will typically go through a non-linear activation function, $g^{[2]}()$, to produce $a^{[2]}$, which would propagate through potentially more layers to the end of the network, producing a final output, $\\hat{y}$. \n"
   ]
  },
  {
   "cell_type": "code",
   "execution_count": null,
   "metadata": {},
   "outputs": [],
   "source": [
    "# | code-fold: true\n",
    "\n",
    "\n",
    "class RestOfForwardPassDiagram(Scene):\n",
    "    def construct(self):\n",
    "        z2 = ndarray_of_indexed_base(IndexedBase(r'z^{[2]}'), (4, 4))\n",
    "        a2 = ndarray_of_indexed_base(IndexedBase(r'a^{[2]}'), (4, 4))\n",
    "\n",
    "        z2_view = create_math_table(z2, cell_size=(0.25, 0.5))\n",
    "        a2_view = create_math_table(a2, cell_size=(0.25, 0.5))\n",
    "        after_ellipsis = create_ellipsis()\n",
    "        self.add(\n",
    "            VGroup(\n",
    "                MathTex('g^{[2]}('),\n",
    "                z2_view,\n",
    "                MathTex(') = '),\n",
    "                a2_view,\n",
    "                Text('#').scale(0.2).set_opacity(0),  # space\n",
    "                after_ellipsis,\n",
    "                Arrow(start=LEFT, end=RIGHT),\n",
    "                MathTex('\\hat{y}'),\n",
    "            ).arrange(direction=RIGHT),\n",
    "        )\n",
    "\n",
    "        self.add(MathTex('z^{[2]}').next_to(z2_view, direction=DOWN, buff=0.25))\n",
    "\n",
    "        self.add(MathTex('a^{[2]}').next_to(a2_view, direction=DOWN, buff=0.25))\n",
    "\n",
    "        self.add(\n",
    "            Text(\"later layers\")\n",
    "            .scale(0.4)\n",
    "            .next_to(after_ellipsis, direction=DOWN, buff=0.25)\n",
    "        )"
   ]
  },
  {
   "cell_type": "code",
   "execution_count": null,
   "metadata": {},
   "outputs": [
    {
     "data": {
      "image/png": "[encoded data removed]",
      "text/plain": [
       "<IPython.core.display.Image object>"
      ]
     },
     "metadata": {},
     "output_type": "display_data"
    }
   ],
   "source": [
    "# | echo: false\n",
    "render_final_frame(RestOfForwardPassDiagram)"
   ]
  },
  {
   "attachments": {},
   "cell_type": "markdown",
   "metadata": {},
   "source": [
    "\n",
    "To start the backward pass, we'd evaluate the loss function ($\\mathcal{L}(y, \\hat{y})$) and use the chain rule to propagate the loss backwards through the layers. My CNN class didn't derive the backprop equations for convolutional layers - my attempting to do that on my own led to this whole investigation. It turns out that the approach of using symbols in the convolution matrices makes it really easy to not only derive the backprop equations but also visualize them. \n",
    "\n",
    "Because we haven't defined what the later layers look like, we have to take on faith that someone has done the work to back-propagate the loss gradient through them and has handed us $\\frac{\\partial \\mathcal{L}}{\\partial z^{[2]}}$. Now need to compute $\\frac{\\partial \\mathcal{L}}{\\partial W^{[2]}}$, $\\frac{\\partial \\mathcal{L}}{\\partial b^{[2]}}$, and $\\frac{\\partial \\mathcal{L}}{\\partial a^{[1]}}$.\n",
    "\n",
    "Let's start with $\\frac{\\partial \\mathcal{L}}{\\partial W^{[2]}}$: the gradient of the loss with respect to the weights in the convolution filter, $W^{[2]}$. "
   ]
  },
  {
   "attachments": {},
   "cell_type": "markdown",
   "metadata": {},
   "source": [
    "### Deriving $\\frac{\\partial \\mathcal{L}}{\\partial W^{[2]}}$\n",
    "\n",
    "The backprop process through all the layers $\\mathcal{l}$ for $\\mathcal{l} > 2$ has given us:\n",
    "\n",
    "$$\n",
    "\\frac{\\partial \\mathcal{L}}{\\partial z^{[2]}} =\n",
    "\\def\\arraystretch{1.5}\n",
    "\\begin{bmatrix}\n",
    "\\frac{\\partial \\mathcal{L}}{\\partial z^{[2]}_{11}} & \\frac{\\partial \\mathcal{L}}{\\partial z^{[2]}_{12}} & \\frac{\\partial \\mathcal{L}}{\\partial z^{[2]}_{13}} & \\frac{\\partial \\mathcal{L}}{\\partial z^{[2]}_{14}}\\\\\n",
    "\\frac{\\partial \\mathcal{L}}{\\partial z^{[2]}_{21}} & \\frac{\\partial \\mathcal{L}}{\\partial z^{[2]}_{22}} & \\frac{\\partial \\mathcal{L}}{\\partial z^{[2]}_{23}} & \\frac{\\partial \\mathcal{L}}{\\partial z^{[2]}_{24}}\\\\\n",
    "\\frac{\\partial \\mathcal{L}}{\\partial z^{[2]}_{31}} & \\frac{\\partial \\mathcal{L}}{\\partial z^{[2]}_{32}} & \\frac{\\partial \\mathcal{L}}{\\partial z^{[2]}_{33}} & \\frac{\\partial \\mathcal{L}}{\\partial z^{[2]}_{34}}\\\\\n",
    "\\frac{\\partial \\mathcal{L}}{\\partial z^{[2]}_{41}} & \\frac{\\partial \\mathcal{L}}{\\partial z^{[2]}_{42}} & \\frac{\\partial \\mathcal{L}}{\\partial z^{[2]}_{43}} & \\frac{\\partial \\mathcal{L}}{\\partial z^{[2]}_{44}}\\\\\n",
    "\\end{bmatrix}\n",
    "$$\n",
    "\n",
    "and now we want to calculate:\n",
    "\n",
    "$$\n",
    "\\frac{\\partial \\mathcal{L}}{\\partial W^{[2]}} =\n",
    "\\def\\arraystretch{1.5}\n",
    "\\begin{bmatrix}\n",
    "\\frac{\\partial \\mathcal{L}}{\\partial W^{[2]}_{11}} & \\frac{\\partial \\mathcal{L}}{\\partial W^{[2]}_{12}} & \\frac{\\partial \\mathcal{L}}{\\partial W^{[2]}_{13}}\\\\\n",
    "\\frac{\\partial \\mathcal{L}}{\\partial W^{[2]}_{21}} & \\frac{\\partial \\mathcal{L}}{\\partial W^{[2]}_{22}} & \\frac{\\partial \\mathcal{L}}{\\partial W^{[2]}_{23}}\\\\\n",
    "\\frac{\\partial \\mathcal{L}}{\\partial W^{[2]}_{31}} & \\frac{\\partial \\mathcal{L}}{\\partial W^{[2]}_{32}} & \\frac{\\partial \\mathcal{L}}{\\partial W^{[2]}_{33}}\\\\\n",
    "\\end{bmatrix}\n",
    "$$\n",
    "\n",
    "Each element of $\\frac{\\partial \\mathcal{L}}{\\partial W^{[2]}}$ represents the gradient of the loss function $\\mathcal{L}$ with respect to the corresponding element of $W^{[2]}$. Because $z^{[2]} = a^{[1]} * W^{[2]} + b^{[2]}$, each element of $W^{[2]}$ contributes to every element of $z^{[2]}$. \n"
   ]
  },
  {
   "cell_type": "code",
   "execution_count": null,
   "metadata": {},
   "outputs": [],
   "source": [
    "# | code-fold: true\n",
    "\n",
    "\n",
    "class ComputationGraphWtoZ(Scene):\n",
    "    def construct(self):\n",
    "        z11 = MathTex(r'z^{[2]}_{1, 1}')\n",
    "        z12 = MathTex(r'z^{[2]}_{1, 2}')\n",
    "        z43 = MathTex(r'z^{[2]}_{4, 3}')\n",
    "        z44 = MathTex(r'z^{[2]}_{4, 4}')\n",
    "\n",
    "        zs = VGroup(\n",
    "            z11,\n",
    "            z12,\n",
    "            Text(\".\"),\n",
    "            Text(\".\"),\n",
    "            Text(\".\"),\n",
    "            z43,\n",
    "            z44,\n",
    "        ).arrange(direction=DOWN)\n",
    "\n",
    "        W11 = MathTex(r'W^{[2]}_{1, 1}')\n",
    "        W12 = MathTex(r'W^{[2]}_{1, 2}')\n",
    "        W32 = MathTex(r'W^{[2]}_{3, 2}')\n",
    "        W33 = MathTex(r'W^{[2]}_{3, 3}')\n",
    "        Ws = VGroup(\n",
    "            W11,\n",
    "            W12.set_opacity(0.6),\n",
    "            Text(\".\").set_opacity(0.6),\n",
    "            Text(\".\").set_opacity(0.6),\n",
    "            Text(\".\").set_opacity(0.6),\n",
    "            W32.set_opacity(0.6),\n",
    "            W33.set_opacity(0.6),\n",
    "        ).arrange(direction=DOWN)\n",
    "\n",
    "        loss = MathTex('\\mathcal{L}').scale(1.5)\n",
    "\n",
    "        later_layers = VGroup(\n",
    "            Rectangle(\n",
    "                width=1.75,\n",
    "                height=3.0,\n",
    "                fill_color=BLACK,\n",
    "                fill_opacity=1.0,\n",
    "                stroke_width=0.0,\n",
    "            ),\n",
    "            VGroup(create_ellipsis(), Text(\"later layers\").scale(0.4)).arrange(\n",
    "                direction=DOWN\n",
    "            ),\n",
    "        )\n",
    "\n",
    "        self.add(\n",
    "            VGroup(\n",
    "                Ws,\n",
    "                zs,\n",
    "                later_layers,\n",
    "                loss,\n",
    "            ).arrange(direction=RIGHT, buff=2.5),\n",
    "        )\n",
    "\n",
    "        for z in [z11, z12, z43, z44]:\n",
    "            self.add(\n",
    "                Arrow(\n",
    "                    start=W11.get_right(),\n",
    "                    end=z.get_left(),\n",
    "                    max_tip_length_to_length_ratio=0.05,\n",
    "                    max_stroke_width_to_length_ratio=0.5,\n",
    "                )\n",
    "            )\n",
    "\n",
    "            self.add(\n",
    "                Arrow(\n",
    "                    start=z.get_right(),\n",
    "                    end=loss.get_left(),\n",
    "                    max_tip_length_to_length_ratio=0.025,\n",
    "                    max_stroke_width_to_length_ratio=0.5,\n",
    "                )\n",
    "            )\n",
    "\n",
    "        # Make the \"later layers\" depiction appear in front of the arrows\n",
    "        self.add_foreground_mobject(later_layers)\n",
    "\n",
    "        for W in [W12, W32, W33]:\n",
    "            for z in [z11, z12, z43, z44]:\n",
    "                self.add(\n",
    "                    Arrow(\n",
    "                        start=W.get_right(),\n",
    "                        end=z.get_left(),\n",
    "                        max_tip_length_to_length_ratio=0.05,\n",
    "                        max_stroke_width_to_length_ratio=0.5,\n",
    "                    ).set_opacity(0.2)\n",
    "                )"
   ]
  },
  {
   "cell_type": "code",
   "execution_count": null,
   "metadata": {},
   "outputs": [
    {
     "data": {
      "image/png": "[encoded data removed]",
      "text/plain": [
       "<IPython.core.display.Image object>"
      ]
     },
     "metadata": {},
     "output_type": "display_data"
    }
   ],
   "source": [
    "# | echo: false\n",
    "render_final_frame(ComputationGraphWtoZ)"
   ]
  },
  {
   "attachments": {},
   "cell_type": "markdown",
   "metadata": {},
   "source": [
    "\n",
    "Let's consider $\\frac{\\partial \\mathcal{L}}{\\partial W^{[2]}_{11}}$, the loss gradient with respect to the first element of $W^{[2]}$. For each element $z^{[2]}_{k, l}$ of $z^{[2]}$:\n",
    "\n",
    "* We know $\\frac{\\partial \\mathcal{L}}{\\partial z^{[2]}_{k, l}}$ (gradient of the loss with respect to $z^{[2]}_{k, l}$)\n",
    "* We can compute $\\frac{\\partial z^{[2]}_{k, l}}{\\partial W^{[2]}_{11}}$ (gradient of $z^{[2]}_{k, l}$ with respect to $W^{[2]}_{11}$)\n",
    "\n",
    "The chain rule says we can multiply these together:\n",
    "\n",
    "$$\n",
    "\\frac{\\partial \\mathcal{L}}{\\partial z^{[2]}_{k, l}}\\frac{\\partial z^{[2]}_{k, l}}{\\partial W^{[2]}_{11}}\n",
    "$$\n",
    "\n",
    "and this will give us the portion of $\\frac{\\partial \\mathcal{L}}{\\partial W^{[2]}_{11}}$ resulting from $W^{[2]}_{11}$'s contribution to $z^{[2]}_{k, l}$. If we want the total $\\frac{\\partial \\mathcal{L}}{\\partial W^{[2]}_{11}}$ we just need to sum this across all elements $z^{[2]}_{k, l}$ of $z^{[2]}$:\n",
    "\n",
    "$$\n",
    "\\begin{align}\n",
    "\\frac{\\partial \\mathcal{L}}{\\partial W^{[2]}_{11}} &= \\sum_{k, l} \\frac{\\partial \\mathcal{L}}{\\partial z^{[2]}_{k, l}}\\frac{\\partial z^{[2]}_{k, l}}{\\partial W^{[2]}_{11}}\\\\[2em]\n",
    "&= \\frac{\\partial \\mathcal{L}}{\\partial z^{[2]}_{11}}\\frac{\\partial z^{[2]}_{11}}{\\partial W^{[2]}_{11}} + \\frac{\\partial \\mathcal{L}}{\\partial z^{[2]}_{12}}\\frac{\\partial z^{[2]}_{12}}{\\partial W^{[2]}_{11}} + \\cdots + \\frac{\\partial \\mathcal{L}}{\\partial z^{[2]}_{44}}\\frac{\\partial z^{[2]}_{44}}{\\partial W^{[2]}_{11}} \n",
    "\\end{align}\n",
    "$$\n",
    "\n",
    "\n",
    "Or, more generally, for each element $W^{[2]}_{i, j}$ of $W^{[2]}$:\n",
    "\n",
    "$$\n",
    "\\frac{\\partial \\mathcal{L}}{\\partial W^{[2]}_{i, j}} = \\sum_{k, l} \\frac{\\partial \\mathcal{L}}{\\partial z^{[2]}_{k, l}}\\frac{\\partial z^{[2]}_{k, l}}{\\partial W^{[2]}_{i, j}}\n",
    "$$\n",
    "\n",
    "We could of course work out by hand what this would be. But we've got a whole symbolic engine at our disposal - lets use it instead!\n"
   ]
  },
  {
   "attachments": {},
   "cell_type": "markdown",
   "metadata": {},
   "source": [
    "SymPy has the ability to differentiate symbolic expressions (and other [calculus abilities](https://docs.sympy.org/latest/tutorials/intro-tutorial/calculus.html)). Here's a quick showcase: let's create a symbolic expression for: $x = 2y^2 + 3z$ and then differentiate with respect to $y$:"
   ]
  },
  {
   "cell_type": "code",
   "execution_count": null,
   "metadata": {},
   "outputs": [
    {
     "data": {
      "text/latex": [
       "$\\displaystyle 4 y$"
      ],
      "text/plain": [
       "4*y"
      ]
     },
     "execution_count": null,
     "metadata": {},
     "output_type": "execute_result"
    }
   ],
   "source": [
    "x, y, z = symbols('x y z')\n",
    "x = 2*y**2 + 3*z \n",
    "x.diff(y)"
   ]
  },
  {
   "attachments": {},
   "cell_type": "markdown",
   "metadata": {},
   "source": [
    "The answer, $4y$, is of course what we expect. In the computation of $\\frac{\\partial \\mathcal{L}}{\\partial W^{[2]}}$, we know we're going to need $\\frac{\\partial z^{[2]}_{k, l}}{\\partial W^{[2]}_{i, j}}$. Our `z2` matrix already contains the expressions for each element of $z^{[2]}$. E.g. $z^{[2]}_{1, 1}$ is:"
   ]
  },
  {
   "cell_type": "code",
   "execution_count": null,
   "metadata": {},
   "outputs": [
    {
     "data": {
      "text/latex": [
       "$\\displaystyle b^{[2]} + {W^{[2]}}_{1,1} {a^{[1]}}_{1,1} + {W^{[2]}}_{1,2} {a^{[1]}}_{1,2} + {W^{[2]}}_{1,3} {a^{[1]}}_{1,3} + {W^{[2]}}_{2,1} {a^{[1]}}_{2,1} + {W^{[2]}}_{2,2} {a^{[1]}}_{2,2} + {W^{[2]}}_{2,3} {a^{[1]}}_{2,3} + {W^{[2]}}_{3,1} {a^{[1]}}_{3,1} + {W^{[2]}}_{3,2} {a^{[1]}}_{3,2} + {W^{[2]}}_{3,3} {a^{[1]}}_{3,3}$"
      ],
      "text/plain": [
       "b^{[2]} + W^{[2]}[1, 1]*a^{[1]}[1, 1] + W^{[2]}[1, 2]*a^{[1]}[1, 2] + W^{[2]}[1, 3]*a^{[1]}[1, 3] + W^{[2]}[2, 1]*a^{[1]}[2, 1] + W^{[2]}[2, 2]*a^{[1]}[2, 2] + W^{[2]}[2, 3]*a^{[1]}[2, 3] + W^{[2]}[3, 1]*a^{[1]}[3, 1] + W^{[2]}[3, 2]*a^{[1]}[3, 2] + W^{[2]}[3, 3]*a^{[1]}[3, 3]"
      ]
     },
     "execution_count": null,
     "metadata": {},
     "output_type": "execute_result"
    }
   ],
   "source": [
    "z2[0][0]"
   ]
  },
  {
   "attachments": {},
   "cell_type": "markdown",
   "metadata": {},
   "source": [
    " We can use the same `diff()` method shown above to compute the derivivatives with respect to the elements of $W^{[2]}$. E.g., here's $\\frac{\\partial z^{[2]}_{1, 1}}{\\partial W^{[2]}_{1, 1}}$"
   ]
  },
  {
   "cell_type": "code",
   "execution_count": null,
   "metadata": {},
   "outputs": [
    {
     "data": {
      "text/latex": [
       "$\\displaystyle {a^{[1]}}_{1,1}$"
      ],
      "text/plain": [
       "a^{[1]}[1, 1]"
      ]
     },
     "execution_count": null,
     "metadata": {},
     "output_type": "execute_result"
    }
   ],
   "source": [
    "z2[0][0].diff(W2[0][0])"
   ]
  },
  {
   "attachments": {},
   "cell_type": "markdown",
   "metadata": {},
   "source": [
    "We could now write some code to compute each element of $\\frac{\\partial \\mathcal{L}}{\\partial W^{[2]}}$ according to the by applying the chain rule with each element of $\\frac{\\partial \\mathcal{L}}{\\partial z^{[2]}}$ and summing, as we worked out above. But we're going to need similar logic in other cases, so let's write a more general-purpose function we can re-use. \n",
    "\n",
    "Let `A` and `B` be matrices of symbols and `df_dA` also be a matrix of symbols representing $\\frac{\\partial f}{\\partial A}$. The function below computes $\\frac{\\partial f}{\\partial B}$ by applying the chain rule element-wise:\n",
    "\n",
    "For every $i, j$ in $B$, the function calculates \n",
    "\n",
    "$$\n",
    "\\frac{\\partial f}{\\partial B_{i, j}} = \\sum_{k, l} \\frac{\\partial f}{\\partial A_{k, l}}\\frac{\\partial A_{k, l}}{\\partial B_{i, j}}\n",
    "$$"
   ]
  },
  {
   "cell_type": "code",
   "execution_count": null,
   "metadata": {},
   "outputs": [],
   "source": [
    "def matrix_matrix_chain_rule(df_dA: np.ndarray, A: np.ndarray, B: np.ndarray):\n",
    "    \"\"\"\n",
    "    Say f is a function, A & B are matrices represented by ndarrays\n",
    "    Given an matrix of the elements of df/dA, A, and B, this function\n",
    "    computes the elements of df_dB by applying the chain rule element-\n",
    "    wise.\n",
    "    \"\"\"\n",
    "    Ah, Aw = A.shape\n",
    "    Bh, Bw = B.shape\n",
    "\n",
    "    output = np.array(\n",
    "        [\n",
    "            [\n",
    "                sum(\n",
    "                    [\n",
    "                        df_dA[ak][al] * A[ak][al].diff(B[bi][bj])\n",
    "                        for ak in range(Ah)\n",
    "                        for al in range(Aw)\n",
    "                    ]\n",
    "                )\n",
    "                for bj in range(Bw)\n",
    "            ]\n",
    "            for bi in range(Bh)\n",
    "        ],\n",
    "        dtype=object,\n",
    "    )\n",
    "\n",
    "    return output"
   ]
  },
  {
   "attachments": {},
   "cell_type": "markdown",
   "metadata": {},
   "source": [
    "Now, let's use our symbolic engine and our `matrix_matrix_chain_rule()` function to work out $\\frac{\\partial \\mathcal{L}}{\\partial W^{[2]}}$. "
   ]
  },
  {
   "cell_type": "code",
   "execution_count": null,
   "metadata": {},
   "outputs": [
    {
     "data": {
      "text/markdown": [
       "$$\\begin{bmatrix}\n",
       "\\frac{\\partial}{\\partial {z^{[2]}}_{1,1}} \\mathcal{L}{\\left(y,\\hat{y} \\right)} {a^{[1]}}_{1,1} + \\frac{\\partial}{\\partial {z^{[2]}}_{1,2}} \\mathcal{L}{\\left(y,\\hat{y} \\right)} {a^{[1]}}_{1,2} + \\frac{\\partial}{\\partial {z^{[2]}}_{1,3}} \\mathcal{L}{\\left(y,\\hat{y} \\right)} {a^{[1]}}_{1,3} + \\frac{\\partial}{\\partial {z^{[2]}}_{1,4}} \\mathcal{L}{\\left(y,\\hat{y} \\right)} {a^{[1]}}_{1,4} + \\frac{\\partial}{\\partial {z^{[2]}}_{2,1}} \\mathcal{L}{\\left(y,\\hat{y} \\right)} {a^{[1]}}_{2,1} + \\frac{\\partial}{\\partial {z^{[2]}}_{2,2}} \\mathcal{L}{\\left(y,\\hat{y} \\right)} {a^{[1]}}_{2,2} + \\frac{\\partial}{\\partial {z^{[2]}}_{2,3}} \\mathcal{L}{\\left(y,\\hat{y} \\right)} {a^{[1]}}_{2,3} + \\frac{\\partial}{\\partial {z^{[2]}}_{2,4}} \\mathcal{L}{\\left(y,\\hat{y} \\right)} {a^{[1]}}_{2,4} + \\frac{\\partial}{\\partial {z^{[2]}}_{3,1}} \\mathcal{L}{\\left(y,\\hat{y} \\right)} {a^{[1]}}_{3,1} + \\frac{\\partial}{\\partial {z^{[2]}}_{3,2}} \\mathcal{L}{\\left(y,\\hat{y} \\right)} {a^{[1]}}_{3,2} + \\frac{\\partial}{\\partial {z^{[2]}}_{3,3}} \\mathcal{L}{\\left(y,\\hat{y} \\right)} {a^{[1]}}_{3,3} + \\frac{\\partial}{\\partial {z^{[2]}}_{3,4}} \\mathcal{L}{\\left(y,\\hat{y} \\right)} {a^{[1]}}_{3,4} + \\frac{\\partial}{\\partial {z^{[2]}}_{4,1}} \\mathcal{L}{\\left(y,\\hat{y} \\right)} {a^{[1]}}_{4,1} + \\frac{\\partial}{\\partial {z^{[2]}}_{4,2}} \\mathcal{L}{\\left(y,\\hat{y} \\right)} {a^{[1]}}_{4,2} + \\frac{\\partial}{\\partial {z^{[2]}}_{4,3}} \\mathcal{L}{\\left(y,\\hat{y} \\right)} {a^{[1]}}_{4,3} + \\frac{\\partial}{\\partial {z^{[2]}}_{4,4}} \\mathcal{L}{\\left(y,\\hat{y} \\right)} {a^{[1]}}_{4,4} & \\frac{\\partial}{\\partial {z^{[2]}}_{1,1}} \\mathcal{L}{\\left(y,\\hat{y} \\right)} {a^{[1]}}_{1,2} + \\frac{\\partial}{\\partial {z^{[2]}}_{1,2}} \\mathcal{L}{\\left(y,\\hat{y} \\right)} {a^{[1]}}_{1,3} + \\frac{\\partial}{\\partial {z^{[2]}}_{1,3}} \\mathcal{L}{\\left(y,\\hat{y} \\right)} {a^{[1]}}_{1,4} + \\frac{\\partial}{\\partial {z^{[2]}}_{1,4}} \\mathcal{L}{\\left(y,\\hat{y} \\right)} {a^{[1]}}_{1,5} + \\frac{\\partial}{\\partial {z^{[2]}}_{2,1}} \\mathcal{L}{\\left(y,\\hat{y} \\right)} {a^{[1]}}_{2,2} + \\frac{\\partial}{\\partial {z^{[2]}}_{2,2}} \\mathcal{L}{\\left(y,\\hat{y} \\right)} {a^{[1]}}_{2,3} + \\frac{\\partial}{\\partial {z^{[2]}}_{2,3}} \\mathcal{L}{\\left(y,\\hat{y} \\right)} {a^{[1]}}_{2,4} + \\frac{\\partial}{\\partial {z^{[2]}}_{2,4}} \\mathcal{L}{\\left(y,\\hat{y} \\right)} {a^{[1]}}_{2,5} + \\frac{\\partial}{\\partial {z^{[2]}}_{3,1}} \\mathcal{L}{\\left(y,\\hat{y} \\right)} {a^{[1]}}_{3,2} + \\frac{\\partial}{\\partial {z^{[2]}}_{3,2}} \\mathcal{L}{\\left(y,\\hat{y} \\right)} {a^{[1]}}_{3,3} + \\frac{\\partial}{\\partial {z^{[2]}}_{3,3}} \\mathcal{L}{\\left(y,\\hat{y} \\right)} {a^{[1]}}_{3,4} + \\frac{\\partial}{\\partial {z^{[2]}}_{3,4}} \\mathcal{L}{\\left(y,\\hat{y} \\right)} {a^{[1]}}_{3,5} + \\frac{\\partial}{\\partial {z^{[2]}}_{4,1}} \\mathcal{L}{\\left(y,\\hat{y} \\right)} {a^{[1]}}_{4,2} + \\frac{\\partial}{\\partial {z^{[2]}}_{4,2}} \\mathcal{L}{\\left(y,\\hat{y} \\right)} {a^{[1]}}_{4,3} + \\frac{\\partial}{\\partial {z^{[2]}}_{4,3}} \\mathcal{L}{\\left(y,\\hat{y} \\right)} {a^{[1]}}_{4,4} + \\frac{\\partial}{\\partial {z^{[2]}}_{4,4}} \\mathcal{L}{\\left(y,\\hat{y} \\right)} {a^{[1]}}_{4,5} & \\frac{\\partial}{\\partial {z^{[2]}}_{1,1}} \\mathcal{L}{\\left(y,\\hat{y} \\right)} {a^{[1]}}_{1,3} + \\frac{\\partial}{\\partial {z^{[2]}}_{1,2}} \\mathcal{L}{\\left(y,\\hat{y} \\right)} {a^{[1]}}_{1,4} + \\frac{\\partial}{\\partial {z^{[2]}}_{1,3}} \\mathcal{L}{\\left(y,\\hat{y} \\right)} {a^{[1]}}_{1,5} + \\frac{\\partial}{\\partial {z^{[2]}}_{1,4}} \\mathcal{L}{\\left(y,\\hat{y} \\right)} {a^{[1]}}_{1,6} + \\frac{\\partial}{\\partial {z^{[2]}}_{2,1}} \\mathcal{L}{\\left(y,\\hat{y} \\right)} {a^{[1]}}_{2,3} + \\frac{\\partial}{\\partial {z^{[2]}}_{2,2}} \\mathcal{L}{\\left(y,\\hat{y} \\right)} {a^{[1]}}_{2,4} + \\frac{\\partial}{\\partial {z^{[2]}}_{2,3}} \\mathcal{L}{\\left(y,\\hat{y} \\right)} {a^{[1]}}_{2,5} + \\frac{\\partial}{\\partial {z^{[2]}}_{2,4}} \\mathcal{L}{\\left(y,\\hat{y} \\right)} {a^{[1]}}_{2,6} + \\frac{\\partial}{\\partial {z^{[2]}}_{3,1}} \\mathcal{L}{\\left(y,\\hat{y} \\right)} {a^{[1]}}_{3,3} + \\frac{\\partial}{\\partial {z^{[2]}}_{3,2}} \\mathcal{L}{\\left(y,\\hat{y} \\right)} {a^{[1]}}_{3,4} + \\frac{\\partial}{\\partial {z^{[2]}}_{3,3}} \\mathcal{L}{\\left(y,\\hat{y} \\right)} {a^{[1]}}_{3,5} + \\frac{\\partial}{\\partial {z^{[2]}}_{3,4}} \\mathcal{L}{\\left(y,\\hat{y} \\right)} {a^{[1]}}_{3,6} + \\frac{\\partial}{\\partial {z^{[2]}}_{4,1}} \\mathcal{L}{\\left(y,\\hat{y} \\right)} {a^{[1]}}_{4,3} + \\frac{\\partial}{\\partial {z^{[2]}}_{4,2}} \\mathcal{L}{\\left(y,\\hat{y} \\right)} {a^{[1]}}_{4,4} + \\frac{\\partial}{\\partial {z^{[2]}}_{4,3}} \\mathcal{L}{\\left(y,\\hat{y} \\right)} {a^{[1]}}_{4,5} + \\frac{\\partial}{\\partial {z^{[2]}}_{4,4}} \\mathcal{L}{\\left(y,\\hat{y} \\right)} {a^{[1]}}_{4,6}\\\\\n",
       "\\frac{\\partial}{\\partial {z^{[2]}}_{1,1}} \\mathcal{L}{\\left(y,\\hat{y} \\right)} {a^{[1]}}_{2,1} + \\frac{\\partial}{\\partial {z^{[2]}}_{1,2}} \\mathcal{L}{\\left(y,\\hat{y} \\right)} {a^{[1]}}_{2,2} + \\frac{\\partial}{\\partial {z^{[2]}}_{1,3}} \\mathcal{L}{\\left(y,\\hat{y} \\right)} {a^{[1]}}_{2,3} + \\frac{\\partial}{\\partial {z^{[2]}}_{1,4}} \\mathcal{L}{\\left(y,\\hat{y} \\right)} {a^{[1]}}_{2,4} + \\frac{\\partial}{\\partial {z^{[2]}}_{2,1}} \\mathcal{L}{\\left(y,\\hat{y} \\right)} {a^{[1]}}_{3,1} + \\frac{\\partial}{\\partial {z^{[2]}}_{2,2}} \\mathcal{L}{\\left(y,\\hat{y} \\right)} {a^{[1]}}_{3,2} + \\frac{\\partial}{\\partial {z^{[2]}}_{2,3}} \\mathcal{L}{\\left(y,\\hat{y} \\right)} {a^{[1]}}_{3,3} + \\frac{\\partial}{\\partial {z^{[2]}}_{2,4}} \\mathcal{L}{\\left(y,\\hat{y} \\right)} {a^{[1]}}_{3,4} + \\frac{\\partial}{\\partial {z^{[2]}}_{3,1}} \\mathcal{L}{\\left(y,\\hat{y} \\right)} {a^{[1]}}_{4,1} + \\frac{\\partial}{\\partial {z^{[2]}}_{3,2}} \\mathcal{L}{\\left(y,\\hat{y} \\right)} {a^{[1]}}_{4,2} + \\frac{\\partial}{\\partial {z^{[2]}}_{3,3}} \\mathcal{L}{\\left(y,\\hat{y} \\right)} {a^{[1]}}_{4,3} + \\frac{\\partial}{\\partial {z^{[2]}}_{3,4}} \\mathcal{L}{\\left(y,\\hat{y} \\right)} {a^{[1]}}_{4,4} + \\frac{\\partial}{\\partial {z^{[2]}}_{4,1}} \\mathcal{L}{\\left(y,\\hat{y} \\right)} {a^{[1]}}_{5,1} + \\frac{\\partial}{\\partial {z^{[2]}}_{4,2}} \\mathcal{L}{\\left(y,\\hat{y} \\right)} {a^{[1]}}_{5,2} + \\frac{\\partial}{\\partial {z^{[2]}}_{4,3}} \\mathcal{L}{\\left(y,\\hat{y} \\right)} {a^{[1]}}_{5,3} + \\frac{\\partial}{\\partial {z^{[2]}}_{4,4}} \\mathcal{L}{\\left(y,\\hat{y} \\right)} {a^{[1]}}_{5,4} & \\frac{\\partial}{\\partial {z^{[2]}}_{1,1}} \\mathcal{L}{\\left(y,\\hat{y} \\right)} {a^{[1]}}_{2,2} + \\frac{\\partial}{\\partial {z^{[2]}}_{1,2}} \\mathcal{L}{\\left(y,\\hat{y} \\right)} {a^{[1]}}_{2,3} + \\frac{\\partial}{\\partial {z^{[2]}}_{1,3}} \\mathcal{L}{\\left(y,\\hat{y} \\right)} {a^{[1]}}_{2,4} + \\frac{\\partial}{\\partial {z^{[2]}}_{1,4}} \\mathcal{L}{\\left(y,\\hat{y} \\right)} {a^{[1]}}_{2,5} + \\frac{\\partial}{\\partial {z^{[2]}}_{2,1}} \\mathcal{L}{\\left(y,\\hat{y} \\right)} {a^{[1]}}_{3,2} + \\frac{\\partial}{\\partial {z^{[2]}}_{2,2}} \\mathcal{L}{\\left(y,\\hat{y} \\right)} {a^{[1]}}_{3,3} + \\frac{\\partial}{\\partial {z^{[2]}}_{2,3}} \\mathcal{L}{\\left(y,\\hat{y} \\right)} {a^{[1]}}_{3,4} + \\frac{\\partial}{\\partial {z^{[2]}}_{2,4}} \\mathcal{L}{\\left(y,\\hat{y} \\right)} {a^{[1]}}_{3,5} + \\frac{\\partial}{\\partial {z^{[2]}}_{3,1}} \\mathcal{L}{\\left(y,\\hat{y} \\right)} {a^{[1]}}_{4,2} + \\frac{\\partial}{\\partial {z^{[2]}}_{3,2}} \\mathcal{L}{\\left(y,\\hat{y} \\right)} {a^{[1]}}_{4,3} + \\frac{\\partial}{\\partial {z^{[2]}}_{3,3}} \\mathcal{L}{\\left(y,\\hat{y} \\right)} {a^{[1]}}_{4,4} + \\frac{\\partial}{\\partial {z^{[2]}}_{3,4}} \\mathcal{L}{\\left(y,\\hat{y} \\right)} {a^{[1]}}_{4,5} + \\frac{\\partial}{\\partial {z^{[2]}}_{4,1}} \\mathcal{L}{\\left(y,\\hat{y} \\right)} {a^{[1]}}_{5,2} + \\frac{\\partial}{\\partial {z^{[2]}}_{4,2}} \\mathcal{L}{\\left(y,\\hat{y} \\right)} {a^{[1]}}_{5,3} + \\frac{\\partial}{\\partial {z^{[2]}}_{4,3}} \\mathcal{L}{\\left(y,\\hat{y} \\right)} {a^{[1]}}_{5,4} + \\frac{\\partial}{\\partial {z^{[2]}}_{4,4}} \\mathcal{L}{\\left(y,\\hat{y} \\right)} {a^{[1]}}_{5,5} & \\frac{\\partial}{\\partial {z^{[2]}}_{1,1}} \\mathcal{L}{\\left(y,\\hat{y} \\right)} {a^{[1]}}_{2,3} + \\frac{\\partial}{\\partial {z^{[2]}}_{1,2}} \\mathcal{L}{\\left(y,\\hat{y} \\right)} {a^{[1]}}_{2,4} + \\frac{\\partial}{\\partial {z^{[2]}}_{1,3}} \\mathcal{L}{\\left(y,\\hat{y} \\right)} {a^{[1]}}_{2,5} + \\frac{\\partial}{\\partial {z^{[2]}}_{1,4}} \\mathcal{L}{\\left(y,\\hat{y} \\right)} {a^{[1]}}_{2,6} + \\frac{\\partial}{\\partial {z^{[2]}}_{2,1}} \\mathcal{L}{\\left(y,\\hat{y} \\right)} {a^{[1]}}_{3,3} + \\frac{\\partial}{\\partial {z^{[2]}}_{2,2}} \\mathcal{L}{\\left(y,\\hat{y} \\right)} {a^{[1]}}_{3,4} + \\frac{\\partial}{\\partial {z^{[2]}}_{2,3}} \\mathcal{L}{\\left(y,\\hat{y} \\right)} {a^{[1]}}_{3,5} + \\frac{\\partial}{\\partial {z^{[2]}}_{2,4}} \\mathcal{L}{\\left(y,\\hat{y} \\right)} {a^{[1]}}_{3,6} + \\frac{\\partial}{\\partial {z^{[2]}}_{3,1}} \\mathcal{L}{\\left(y,\\hat{y} \\right)} {a^{[1]}}_{4,3} + \\frac{\\partial}{\\partial {z^{[2]}}_{3,2}} \\mathcal{L}{\\left(y,\\hat{y} \\right)} {a^{[1]}}_{4,4} + \\frac{\\partial}{\\partial {z^{[2]}}_{3,3}} \\mathcal{L}{\\left(y,\\hat{y} \\right)} {a^{[1]}}_{4,5} + \\frac{\\partial}{\\partial {z^{[2]}}_{3,4}} \\mathcal{L}{\\left(y,\\hat{y} \\right)} {a^{[1]}}_{4,6} + \\frac{\\partial}{\\partial {z^{[2]}}_{4,1}} \\mathcal{L}{\\left(y,\\hat{y} \\right)} {a^{[1]}}_{5,3} + \\frac{\\partial}{\\partial {z^{[2]}}_{4,2}} \\mathcal{L}{\\left(y,\\hat{y} \\right)} {a^{[1]}}_{5,4} + \\frac{\\partial}{\\partial {z^{[2]}}_{4,3}} \\mathcal{L}{\\left(y,\\hat{y} \\right)} {a^{[1]}}_{5,5} + \\frac{\\partial}{\\partial {z^{[2]}}_{4,4}} \\mathcal{L}{\\left(y,\\hat{y} \\right)} {a^{[1]}}_{5,6}\\\\\n",
       "\\frac{\\partial}{\\partial {z^{[2]}}_{1,1}} \\mathcal{L}{\\left(y,\\hat{y} \\right)} {a^{[1]}}_{3,1} + \\frac{\\partial}{\\partial {z^{[2]}}_{1,2}} \\mathcal{L}{\\left(y,\\hat{y} \\right)} {a^{[1]}}_{3,2} + \\frac{\\partial}{\\partial {z^{[2]}}_{1,3}} \\mathcal{L}{\\left(y,\\hat{y} \\right)} {a^{[1]}}_{3,3} + \\frac{\\partial}{\\partial {z^{[2]}}_{1,4}} \\mathcal{L}{\\left(y,\\hat{y} \\right)} {a^{[1]}}_{3,4} + \\frac{\\partial}{\\partial {z^{[2]}}_{2,1}} \\mathcal{L}{\\left(y,\\hat{y} \\right)} {a^{[1]}}_{4,1} + \\frac{\\partial}{\\partial {z^{[2]}}_{2,2}} \\mathcal{L}{\\left(y,\\hat{y} \\right)} {a^{[1]}}_{4,2} + \\frac{\\partial}{\\partial {z^{[2]}}_{2,3}} \\mathcal{L}{\\left(y,\\hat{y} \\right)} {a^{[1]}}_{4,3} + \\frac{\\partial}{\\partial {z^{[2]}}_{2,4}} \\mathcal{L}{\\left(y,\\hat{y} \\right)} {a^{[1]}}_{4,4} + \\frac{\\partial}{\\partial {z^{[2]}}_{3,1}} \\mathcal{L}{\\left(y,\\hat{y} \\right)} {a^{[1]}}_{5,1} + \\frac{\\partial}{\\partial {z^{[2]}}_{3,2}} \\mathcal{L}{\\left(y,\\hat{y} \\right)} {a^{[1]}}_{5,2} + \\frac{\\partial}{\\partial {z^{[2]}}_{3,3}} \\mathcal{L}{\\left(y,\\hat{y} \\right)} {a^{[1]}}_{5,3} + \\frac{\\partial}{\\partial {z^{[2]}}_{3,4}} \\mathcal{L}{\\left(y,\\hat{y} \\right)} {a^{[1]}}_{5,4} + \\frac{\\partial}{\\partial {z^{[2]}}_{4,1}} \\mathcal{L}{\\left(y,\\hat{y} \\right)} {a^{[1]}}_{6,1} + \\frac{\\partial}{\\partial {z^{[2]}}_{4,2}} \\mathcal{L}{\\left(y,\\hat{y} \\right)} {a^{[1]}}_{6,2} + \\frac{\\partial}{\\partial {z^{[2]}}_{4,3}} \\mathcal{L}{\\left(y,\\hat{y} \\right)} {a^{[1]}}_{6,3} + \\frac{\\partial}{\\partial {z^{[2]}}_{4,4}} \\mathcal{L}{\\left(y,\\hat{y} \\right)} {a^{[1]}}_{6,4} & \\frac{\\partial}{\\partial {z^{[2]}}_{1,1}} \\mathcal{L}{\\left(y,\\hat{y} \\right)} {a^{[1]}}_{3,2} + \\frac{\\partial}{\\partial {z^{[2]}}_{1,2}} \\mathcal{L}{\\left(y,\\hat{y} \\right)} {a^{[1]}}_{3,3} + \\frac{\\partial}{\\partial {z^{[2]}}_{1,3}} \\mathcal{L}{\\left(y,\\hat{y} \\right)} {a^{[1]}}_{3,4} + \\frac{\\partial}{\\partial {z^{[2]}}_{1,4}} \\mathcal{L}{\\left(y,\\hat{y} \\right)} {a^{[1]}}_{3,5} + \\frac{\\partial}{\\partial {z^{[2]}}_{2,1}} \\mathcal{L}{\\left(y,\\hat{y} \\right)} {a^{[1]}}_{4,2} + \\frac{\\partial}{\\partial {z^{[2]}}_{2,2}} \\mathcal{L}{\\left(y,\\hat{y} \\right)} {a^{[1]}}_{4,3} + \\frac{\\partial}{\\partial {z^{[2]}}_{2,3}} \\mathcal{L}{\\left(y,\\hat{y} \\right)} {a^{[1]}}_{4,4} + \\frac{\\partial}{\\partial {z^{[2]}}_{2,4}} \\mathcal{L}{\\left(y,\\hat{y} \\right)} {a^{[1]}}_{4,5} + \\frac{\\partial}{\\partial {z^{[2]}}_{3,1}} \\mathcal{L}{\\left(y,\\hat{y} \\right)} {a^{[1]}}_{5,2} + \\frac{\\partial}{\\partial {z^{[2]}}_{3,2}} \\mathcal{L}{\\left(y,\\hat{y} \\right)} {a^{[1]}}_{5,3} + \\frac{\\partial}{\\partial {z^{[2]}}_{3,3}} \\mathcal{L}{\\left(y,\\hat{y} \\right)} {a^{[1]}}_{5,4} + \\frac{\\partial}{\\partial {z^{[2]}}_{3,4}} \\mathcal{L}{\\left(y,\\hat{y} \\right)} {a^{[1]}}_{5,5} + \\frac{\\partial}{\\partial {z^{[2]}}_{4,1}} \\mathcal{L}{\\left(y,\\hat{y} \\right)} {a^{[1]}}_{6,2} + \\frac{\\partial}{\\partial {z^{[2]}}_{4,2}} \\mathcal{L}{\\left(y,\\hat{y} \\right)} {a^{[1]}}_{6,3} + \\frac{\\partial}{\\partial {z^{[2]}}_{4,3}} \\mathcal{L}{\\left(y,\\hat{y} \\right)} {a^{[1]}}_{6,4} + \\frac{\\partial}{\\partial {z^{[2]}}_{4,4}} \\mathcal{L}{\\left(y,\\hat{y} \\right)} {a^{[1]}}_{6,5} & \\frac{\\partial}{\\partial {z^{[2]}}_{1,1}} \\mathcal{L}{\\left(y,\\hat{y} \\right)} {a^{[1]}}_{3,3} + \\frac{\\partial}{\\partial {z^{[2]}}_{1,2}} \\mathcal{L}{\\left(y,\\hat{y} \\right)} {a^{[1]}}_{3,4} + \\frac{\\partial}{\\partial {z^{[2]}}_{1,3}} \\mathcal{L}{\\left(y,\\hat{y} \\right)} {a^{[1]}}_{3,5} + \\frac{\\partial}{\\partial {z^{[2]}}_{1,4}} \\mathcal{L}{\\left(y,\\hat{y} \\right)} {a^{[1]}}_{3,6} + \\frac{\\partial}{\\partial {z^{[2]}}_{2,1}} \\mathcal{L}{\\left(y,\\hat{y} \\right)} {a^{[1]}}_{4,3} + \\frac{\\partial}{\\partial {z^{[2]}}_{2,2}} \\mathcal{L}{\\left(y,\\hat{y} \\right)} {a^{[1]}}_{4,4} + \\frac{\\partial}{\\partial {z^{[2]}}_{2,3}} \\mathcal{L}{\\left(y,\\hat{y} \\right)} {a^{[1]}}_{4,5} + \\frac{\\partial}{\\partial {z^{[2]}}_{2,4}} \\mathcal{L}{\\left(y,\\hat{y} \\right)} {a^{[1]}}_{4,6} + \\frac{\\partial}{\\partial {z^{[2]}}_{3,1}} \\mathcal{L}{\\left(y,\\hat{y} \\right)} {a^{[1]}}_{5,3} + \\frac{\\partial}{\\partial {z^{[2]}}_{3,2}} \\mathcal{L}{\\left(y,\\hat{y} \\right)} {a^{[1]}}_{5,4} + \\frac{\\partial}{\\partial {z^{[2]}}_{3,3}} \\mathcal{L}{\\left(y,\\hat{y} \\right)} {a^{[1]}}_{5,5} + \\frac{\\partial}{\\partial {z^{[2]}}_{3,4}} \\mathcal{L}{\\left(y,\\hat{y} \\right)} {a^{[1]}}_{5,6} + \\frac{\\partial}{\\partial {z^{[2]}}_{4,1}} \\mathcal{L}{\\left(y,\\hat{y} \\right)} {a^{[1]}}_{6,3} + \\frac{\\partial}{\\partial {z^{[2]}}_{4,2}} \\mathcal{L}{\\left(y,\\hat{y} \\right)} {a^{[1]}}_{6,4} + \\frac{\\partial}{\\partial {z^{[2]}}_{4,3}} \\mathcal{L}{\\left(y,\\hat{y} \\right)} {a^{[1]}}_{6,5} + \\frac{\\partial}{\\partial {z^{[2]}}_{4,4}} \\mathcal{L}{\\left(y,\\hat{y} \\right)} {a^{[1]}}_{6,6}\\end{bmatrix}\n",
       "$$"
      ],
      "text/plain": [
       "<IPython.core.display.Markdown object>"
      ]
     },
     "execution_count": null,
     "metadata": {},
     "output_type": "execute_result"
    }
   ],
   "source": [
    "# Describe the loss function symbolically\n",
    "y = symbols('y')\n",
    "yhat = symbols(r'\\hat{y}')\n",
    "L = Function(r'\\mathcal{L}')(y, yhat)\n",
    "\n",
    "# Build dL/dz2\n",
    "dz2 = ndarray_of_indexed_base(\n",
    "    IndexedBase(r'z^{[2]}'), z2.shape, transform=lambda x: Derivative(L, x)\n",
    ")\n",
    "\n",
    "dW2 = matrix_matrix_chain_rule(dz2, z2, W2)\n",
    "\n",
    "Markdown(matrix_to_markdown(dW2))"
   ]
  },
  {
   "attachments": {},
   "cell_type": "markdown",
   "metadata": {},
   "source": [
    "OK, we got a matrix, and each element of this is an expression. Before trying to dig into it, let's just visualize it. Each expression looks like a sum of products and so like before, we can build a highlight map from it, and use this to animate a diagram. But we do need to make one tiny change to `build_highlights_map()`, to make it deal with the derivatives of indexed objects."
   ]
  },
  {
   "cell_type": "code",
   "execution_count": null,
   "metadata": {},
   "outputs": [],
   "source": [
    "def build_highlights_map(expr: Expr) -> Dict[str, List[Tuple]]:\n",
    "    # The expression needs to be either a sum of products or a single product\n",
    "    assert expr.func == Add or expr.func == Mul\n",
    "\n",
    "    # If it's an Add, assert all args are Muls\n",
    "    if expr.func == Add:\n",
    "        assert all(arg.func == Mul for arg in expr.args)\n",
    "\n",
    "    # We want the list of multiplications. This is either a list consisting\n",
    "    # of just the expression itself if it's a Mul or its arguments if it's\n",
    "    # an Add.\n",
    "    muls = [expr] if expr.func == Mul else expr.args\n",
    "\n",
    "    results = {}\n",
    "    for expr in muls:\n",
    "        # Assert all the args are Indexed or derivatives w.r.t. an Indexed\n",
    "        assert all(\n",
    "            arg.func == Indexed\n",
    "            or (arg.func == Derivative and arg.args[1][0].func == Indexed)\n",
    "            for arg in expr.args\n",
    "        )\n",
    "\n",
    "        indexeds = [arg if arg.func == Indexed else arg.args[1][0] for arg in expr.args]\n",
    "\n",
    "        for indexed in indexeds:\n",
    "            if indexed.base.name not in results:\n",
    "                results[indexed.base.name] = []\n",
    "            results[indexed.base.name].append(indexed.indices)\n",
    "    return results"
   ]
  },
  {
   "attachments": {},
   "cell_type": "markdown",
   "metadata": {},
   "source": [
    "We can now use this version of `build_highlights_map()` in drawing code to visualize the operations used to compute $\\frac{\\partial \\mathcal{L}}{\\partial W^{[2]}}$. The result is the video below. "
   ]
  },
  {
   "cell_type": "code",
   "execution_count": null,
   "metadata": {},
   "outputs": [],
   "source": [
    "# | code-fold: true\n",
    "\n",
    "# Recreate ufunc for build_highlights_map now that we've updated it\n",
    "build_highlights_map_ufunc = np.frompyfunc(build_highlights_map, 1, 1)\n",
    "\n",
    "\n",
    "def draw_matrices(\n",
    "    scene: Scene, matrices_and_labels: Iterable[Tuple[np.ndarray, Mobject]]\n",
    "):\n",
    "    cell_size = (0.38, 0.67)\n",
    "    # Create wrapper so we don't have to type cell_size in every call\n",
    "    math_table = lambda arr: create_math_table(arr, cell_size)\n",
    "\n",
    "    views_and_labels = [(math_table(m), label) for m, label in matrices_and_labels]\n",
    "    views = [view for view, _ in views_and_labels]\n",
    "    arrange_items_and_labels(\n",
    "        scene=scene,\n",
    "        items=views,\n",
    "        labels=views_and_labels,\n",
    "    )\n",
    "    return tuple(views)\n",
    "\n",
    "\n",
    "class BackPropDW2(Scene):\n",
    "    def construct(self):\n",
    "        # Create a1, W2, and convolve them:\n",
    "        a1 = ndarray_of_indexed_base(IndexedBase(r'a^{[1]}'), (6, 6))\n",
    "        W2 = ndarray_of_indexed_base(IndexedBase(r'W^{[2]}'), (3, 3))\n",
    "        b2 = symbols(r'b^{[2]}')\n",
    "        z2 = convolve(a1, W2, 0, 1) + b2\n",
    "\n",
    "        # Set up the loss function symbolically.\n",
    "        y = symbols('y')\n",
    "        yhat = symbols(r'\\hat{y}')\n",
    "        L = Function(r'\\mathcal{L}')(y, yhat)\n",
    "\n",
    "        # Build dL/dz2\n",
    "        dz2 = ndarray_of_indexed_base(\n",
    "            IndexedBase(r'z^{[2]}'), z2.shape, transform=lambda x: Derivative(L, x)\n",
    "        )\n",
    "\n",
    "        # Build dL/dW2\n",
    "        dW2 = ndarray_of_indexed_base(\n",
    "            IndexedBase(r'W^{[2]}'),\n",
    "            W2.shape,\n",
    "            transform=lambda x: Derivative(L, x),\n",
    "        )\n",
    "\n",
    "        # Do the calculation to get the expressions for dW2\n",
    "        dW2_expr = matrix_matrix_chain_rule(dz2, z2, W2)\n",
    "\n",
    "        a1_view, dz2_view, dW2_view = draw_matrices(\n",
    "            scene=self,\n",
    "            matrices_and_labels=[\n",
    "                (a1, MathTex(r'a^{[1]}')),\n",
    "                (dz2, MathTex(r'\\frac{\\partial \\mathcal{L}}{\\partial z^{[2]}}')),\n",
    "                (\n",
    "                    dW2,\n",
    "                    MathTex(r'\\frac{\\partial \\mathcal{L}}{\\partial W^{[2]}}'),\n",
    "                ),\n",
    "            ],\n",
    "        )\n",
    "\n",
    "        # Map matrix names to views\n",
    "        array_to_view_map = {\n",
    "            r'a^{[1]}': a1_view,\n",
    "            r'W^{[2]}': dW2_view,\n",
    "            r'z^{[2]}': dz2_view,\n",
    "        }\n",
    "\n",
    "        # Build highlight maps\n",
    "        highlight_maps = build_highlights_map_ufunc(dW2_expr)\n",
    "\n",
    "        animate_highlights_map(self, highlight_maps, dW2_view, array_to_view_map)"
   ]
  },
  {
   "cell_type": "code",
   "execution_count": null,
   "metadata": {},
   "outputs": [],
   "source": [
    "# | echo: false\n",
    "render_video(BackPropDW2)"
   ]
  },
  {
   "cell_type": "code",
   "execution_count": null,
   "metadata": {},
   "outputs": [
    {
     "data": {
      "image/jpeg": "[encoded data removed]",
      "text/html": [
       "\n",
       "        <iframe\n",
       "            width=\"400\"\n",
       "            height=\"300\"\n",
       "            src=\"https://www.youtube.com/embed/twJifMiFloA?loop=1&mute=1&playlist=twJifMiFloA&autoplay=1\"\n",
       "            frameborder=\"0\"\n",
       "            allowfullscreen\n",
       "            allow=\"autoplay\"\n",
       "        ></iframe>\n",
       "        "
      ],
      "text/plain": [
       "<IPython.lib.display.YouTubeVideo>"
      ]
     },
     "execution_count": null,
     "metadata": {},
     "output_type": "execute_result"
    }
   ],
   "source": [
    "#| echo: false\n",
    "video_id = 'twJifMiFloA'\n",
    "YouTubeVideo(video_id, allow_autoplay=True, loop=1, mute=1, playlist=video_id)"
   ]
  },
  {
   "attachments": {},
   "cell_type": "markdown",
   "metadata": {},
   "source": [
    "This looks a whole lot like a convolution of $a^{[1]}$ with $\\frac{\\partial \\mathcal{L}}{\\partial z^{[2]}}$. We can confirm this with the equations:"
   ]
  },
  {
   "cell_type": "code",
   "execution_count": null,
   "metadata": {},
   "outputs": [
    {
     "data": {
      "text/latex": [
       "$\\displaystyle \\frac{\\partial}{\\partial {z^{[2]}}_{1,1}} \\mathcal{L}{\\left(y,\\hat{y} \\right)} {a^{[1]}}_{1,1} + \\frac{\\partial}{\\partial {z^{[2]}}_{1,2}} \\mathcal{L}{\\left(y,\\hat{y} \\right)} {a^{[1]}}_{1,2} + \\frac{\\partial}{\\partial {z^{[2]}}_{1,3}} \\mathcal{L}{\\left(y,\\hat{y} \\right)} {a^{[1]}}_{1,3} + \\frac{\\partial}{\\partial {z^{[2]}}_{1,4}} \\mathcal{L}{\\left(y,\\hat{y} \\right)} {a^{[1]}}_{1,4} + \\frac{\\partial}{\\partial {z^{[2]}}_{2,1}} \\mathcal{L}{\\left(y,\\hat{y} \\right)} {a^{[1]}}_{2,1} + \\frac{\\partial}{\\partial {z^{[2]}}_{2,2}} \\mathcal{L}{\\left(y,\\hat{y} \\right)} {a^{[1]}}_{2,2} + \\frac{\\partial}{\\partial {z^{[2]}}_{2,3}} \\mathcal{L}{\\left(y,\\hat{y} \\right)} {a^{[1]}}_{2,3} + \\frac{\\partial}{\\partial {z^{[2]}}_{2,4}} \\mathcal{L}{\\left(y,\\hat{y} \\right)} {a^{[1]}}_{2,4} + \\frac{\\partial}{\\partial {z^{[2]}}_{3,1}} \\mathcal{L}{\\left(y,\\hat{y} \\right)} {a^{[1]}}_{3,1} + \\frac{\\partial}{\\partial {z^{[2]}}_{3,2}} \\mathcal{L}{\\left(y,\\hat{y} \\right)} {a^{[1]}}_{3,2} + \\frac{\\partial}{\\partial {z^{[2]}}_{3,3}} \\mathcal{L}{\\left(y,\\hat{y} \\right)} {a^{[1]}}_{3,3} + \\frac{\\partial}{\\partial {z^{[2]}}_{3,4}} \\mathcal{L}{\\left(y,\\hat{y} \\right)} {a^{[1]}}_{3,4} + \\frac{\\partial}{\\partial {z^{[2]}}_{4,1}} \\mathcal{L}{\\left(y,\\hat{y} \\right)} {a^{[1]}}_{4,1} + \\frac{\\partial}{\\partial {z^{[2]}}_{4,2}} \\mathcal{L}{\\left(y,\\hat{y} \\right)} {a^{[1]}}_{4,2} + \\frac{\\partial}{\\partial {z^{[2]}}_{4,3}} \\mathcal{L}{\\left(y,\\hat{y} \\right)} {a^{[1]}}_{4,3} + \\frac{\\partial}{\\partial {z^{[2]}}_{4,4}} \\mathcal{L}{\\left(y,\\hat{y} \\right)} {a^{[1]}}_{4,4}$"
      ],
      "text/plain": [
       "Derivative(\\mathcal{L}(y, \\hat{y}), z^{[2]}[1, 1])*a^{[1]}[1, 1] + Derivative(\\mathcal{L}(y, \\hat{y}), z^{[2]}[1, 2])*a^{[1]}[1, 2] + Derivative(\\mathcal{L}(y, \\hat{y}), z^{[2]}[1, 3])*a^{[1]}[1, 3] + Derivative(\\mathcal{L}(y, \\hat{y}), z^{[2]}[1, 4])*a^{[1]}[1, 4] + Derivative(\\mathcal{L}(y, \\hat{y}), z^{[2]}[2, 1])*a^{[1]}[2, 1] + Derivative(\\mathcal{L}(y, \\hat{y}), z^{[2]}[2, 2])*a^{[1]}[2, 2] + Derivative(\\mathcal{L}(y, \\hat{y}), z^{[2]}[2, 3])*a^{[1]}[2, 3] + Derivative(\\mathcal{L}(y, \\hat{y}), z^{[2]}[2, 4])*a^{[1]}[2, 4] + Derivative(\\mathcal{L}(y, \\hat{y}), z^{[2]}[3, 1])*a^{[1]}[3, 1] + Derivative(\\mathcal{L}(y, \\hat{y}), z^{[2]}[3, 2])*a^{[1]}[3, 2] + Derivative(\\mathcal{L}(y, \\hat{y}), z^{[2]}[3, 3])*a^{[1]}[3, 3] + Derivative(\\mathcal{L}(y, \\hat{y}), z^{[2]}[3, 4])*a^{[1]}[3, 4] + Derivative(\\mathcal{L}(y, \\hat{y}), z^{[2]}[4, 1])*a^{[1]}[4, 1] + Derivative(\\mathcal{L}(y, \\hat{y}), z^{[2]}[4, 2])*a^{[1]}[4, 2] + Derivative(\\mathcal{L}(y, \\hat{y}), z^{[2]}[4, 3])*a^{[1]}[4, 3] + Derivative(\\mathcal{L}(y, \\hat{y}), z^{[2]}[4, 4])*a^{[1]}[4, 4]"
      ]
     },
     "metadata": {},
     "output_type": "display_data"
    }
   ],
   "source": [
    "display(dW2[0][0])"
   ]
  },
  {
   "cell_type": "code",
   "execution_count": null,
   "metadata": {},
   "outputs": [
    {
     "data": {
      "text/latex": [
       "$\\displaystyle \\frac{\\partial}{\\partial {z^{[2]}}_{1,1}} \\mathcal{L}{\\left(y,\\hat{y} \\right)} {a^{[1]}}_{2,1} + \\frac{\\partial}{\\partial {z^{[2]}}_{1,2}} \\mathcal{L}{\\left(y,\\hat{y} \\right)} {a^{[1]}}_{2,2} + \\frac{\\partial}{\\partial {z^{[2]}}_{1,3}} \\mathcal{L}{\\left(y,\\hat{y} \\right)} {a^{[1]}}_{2,3} + \\frac{\\partial}{\\partial {z^{[2]}}_{1,4}} \\mathcal{L}{\\left(y,\\hat{y} \\right)} {a^{[1]}}_{2,4} + \\frac{\\partial}{\\partial {z^{[2]}}_{2,1}} \\mathcal{L}{\\left(y,\\hat{y} \\right)} {a^{[1]}}_{3,1} + \\frac{\\partial}{\\partial {z^{[2]}}_{2,2}} \\mathcal{L}{\\left(y,\\hat{y} \\right)} {a^{[1]}}_{3,2} + \\frac{\\partial}{\\partial {z^{[2]}}_{2,3}} \\mathcal{L}{\\left(y,\\hat{y} \\right)} {a^{[1]}}_{3,3} + \\frac{\\partial}{\\partial {z^{[2]}}_{2,4}} \\mathcal{L}{\\left(y,\\hat{y} \\right)} {a^{[1]}}_{3,4} + \\frac{\\partial}{\\partial {z^{[2]}}_{3,1}} \\mathcal{L}{\\left(y,\\hat{y} \\right)} {a^{[1]}}_{4,1} + \\frac{\\partial}{\\partial {z^{[2]}}_{3,2}} \\mathcal{L}{\\left(y,\\hat{y} \\right)} {a^{[1]}}_{4,2} + \\frac{\\partial}{\\partial {z^{[2]}}_{3,3}} \\mathcal{L}{\\left(y,\\hat{y} \\right)} {a^{[1]}}_{4,3} + \\frac{\\partial}{\\partial {z^{[2]}}_{3,4}} \\mathcal{L}{\\left(y,\\hat{y} \\right)} {a^{[1]}}_{4,4} + \\frac{\\partial}{\\partial {z^{[2]}}_{4,1}} \\mathcal{L}{\\left(y,\\hat{y} \\right)} {a^{[1]}}_{5,1} + \\frac{\\partial}{\\partial {z^{[2]}}_{4,2}} \\mathcal{L}{\\left(y,\\hat{y} \\right)} {a^{[1]}}_{5,2} + \\frac{\\partial}{\\partial {z^{[2]}}_{4,3}} \\mathcal{L}{\\left(y,\\hat{y} \\right)} {a^{[1]}}_{5,3} + \\frac{\\partial}{\\partial {z^{[2]}}_{4,4}} \\mathcal{L}{\\left(y,\\hat{y} \\right)} {a^{[1]}}_{5,4}$"
      ],
      "text/plain": [
       "Derivative(\\mathcal{L}(y, \\hat{y}), z^{[2]}[1, 1])*a^{[1]}[2, 1] + Derivative(\\mathcal{L}(y, \\hat{y}), z^{[2]}[1, 2])*a^{[1]}[2, 2] + Derivative(\\mathcal{L}(y, \\hat{y}), z^{[2]}[1, 3])*a^{[1]}[2, 3] + Derivative(\\mathcal{L}(y, \\hat{y}), z^{[2]}[1, 4])*a^{[1]}[2, 4] + Derivative(\\mathcal{L}(y, \\hat{y}), z^{[2]}[2, 1])*a^{[1]}[3, 1] + Derivative(\\mathcal{L}(y, \\hat{y}), z^{[2]}[2, 2])*a^{[1]}[3, 2] + Derivative(\\mathcal{L}(y, \\hat{y}), z^{[2]}[2, 3])*a^{[1]}[3, 3] + Derivative(\\mathcal{L}(y, \\hat{y}), z^{[2]}[2, 4])*a^{[1]}[3, 4] + Derivative(\\mathcal{L}(y, \\hat{y}), z^{[2]}[3, 1])*a^{[1]}[4, 1] + Derivative(\\mathcal{L}(y, \\hat{y}), z^{[2]}[3, 2])*a^{[1]}[4, 2] + Derivative(\\mathcal{L}(y, \\hat{y}), z^{[2]}[3, 3])*a^{[1]}[4, 3] + Derivative(\\mathcal{L}(y, \\hat{y}), z^{[2]}[3, 4])*a^{[1]}[4, 4] + Derivative(\\mathcal{L}(y, \\hat{y}), z^{[2]}[4, 1])*a^{[1]}[5, 1] + Derivative(\\mathcal{L}(y, \\hat{y}), z^{[2]}[4, 2])*a^{[1]}[5, 2] + Derivative(\\mathcal{L}(y, \\hat{y}), z^{[2]}[4, 3])*a^{[1]}[5, 3] + Derivative(\\mathcal{L}(y, \\hat{y}), z^{[2]}[4, 4])*a^{[1]}[5, 4]"
      ]
     },
     "metadata": {},
     "output_type": "display_data"
    }
   ],
   "source": [
    "display(dW2[1][0])"
   ]
  },
  {
   "attachments": {},
   "cell_type": "markdown",
   "metadata": {},
   "source": [
    "Notice how in `dw2[0][0]` (which is $\\frac{\\partial \\mathcal{L}}{\\partial W^{[2]}_{11}}$) each element of $\\frac{\\partial \\mathcal{L}}{\\partial z^{[2]}}$ is multiplied by the corresponding element of $a^{[1]}$ and in `dw2[1][0]` ($\\frac{\\partial \\mathcal{L}}{\\partial w^{[2]}_{21}}$) all the indices of $a^{[1]}$ are shifted down by one, as you'd expect. \n",
    "\n",
    "But this is all so much easier to see in the visualization. Again, the visualization was generated from the expressions in `dW2`, not programmed based on some advanced knowledge of how it should look. In this way, it's actually more of a simulation than a visualization. \n",
    "\n",
    "So we can conclude that:\n",
    "\n",
    "$$\n",
    "\\frac{\\partial \\mathcal{L}}{\\partial W^{[2]}} = a^{[1]} * \\frac{\\partial \\mathcal{L}}{\\partial z^{[2]}}\n",
    "$$\n",
    "\n",
    "In code:"
   ]
  },
  {
   "cell_type": "code",
   "execution_count": null,
   "metadata": {},
   "outputs": [],
   "source": [
    "test_eq(convolve(a1, dz2, 0, 1), dW2)"
   ]
  },
  {
   "attachments": {},
   "cell_type": "markdown",
   "metadata": {},
   "source": [
    "### Deriving $\\frac{\\partial \\mathcal{L}}{\\partial a^{[1]}}$\n",
    "\n",
    "Next, let's work out $\\frac{\\partial \\mathcal{L}}{\\partial a^{[1]}}$, the gradient of the loss function with respect to the previous layer's activations. We can do this by applying the chain rule element-wise, as we did in the previous section: \n",
    "\n",
    "For each element $a^{[1]}_{i, j}$ of $a^{[1]}$:\n",
    "\n",
    "$$\n",
    "\\frac{\\partial \\mathcal{L}}{\\partial a^{[1]}_{i, j}} = \\sum_{k, l} \\frac{\\partial \\mathcal{L}}{\\partial z^{[2]}_{k, l}}\\frac{\\partial z^{[2]}_{k, l}}{\\partial a^{[1]}_{i, j}}\n",
    "$$\n",
    "\n",
    "And of course, we don't have to do this by hand."
   ]
  },
  {
   "cell_type": "code",
   "execution_count": null,
   "metadata": {},
   "outputs": [
    {
     "data": {
      "text/markdown": [
       "$$\\begin{bmatrix}\n",
       "\\frac{\\partial}{\\partial {z^{[2]}}_{1,1}} \\mathcal{L}{\\left(y,\\hat{y} \\right)} {W^{[2]}}_{1,1} & \\frac{\\partial}{\\partial {z^{[2]}}_{1,1}} \\mathcal{L}{\\left(y,\\hat{y} \\right)} {W^{[2]}}_{1,2} + \\frac{\\partial}{\\partial {z^{[2]}}_{1,2}} \\mathcal{L}{\\left(y,\\hat{y} \\right)} {W^{[2]}}_{1,1} & \\frac{\\partial}{\\partial {z^{[2]}}_{1,1}} \\mathcal{L}{\\left(y,\\hat{y} \\right)} {W^{[2]}}_{1,3} + \\frac{\\partial}{\\partial {z^{[2]}}_{1,2}} \\mathcal{L}{\\left(y,\\hat{y} \\right)} {W^{[2]}}_{1,2} + \\frac{\\partial}{\\partial {z^{[2]}}_{1,3}} \\mathcal{L}{\\left(y,\\hat{y} \\right)} {W^{[2]}}_{1,1} & \\frac{\\partial}{\\partial {z^{[2]}}_{1,2}} \\mathcal{L}{\\left(y,\\hat{y} \\right)} {W^{[2]}}_{1,3} + \\frac{\\partial}{\\partial {z^{[2]}}_{1,3}} \\mathcal{L}{\\left(y,\\hat{y} \\right)} {W^{[2]}}_{1,2} + \\frac{\\partial}{\\partial {z^{[2]}}_{1,4}} \\mathcal{L}{\\left(y,\\hat{y} \\right)} {W^{[2]}}_{1,1} & \\frac{\\partial}{\\partial {z^{[2]}}_{1,3}} \\mathcal{L}{\\left(y,\\hat{y} \\right)} {W^{[2]}}_{1,3} + \\frac{\\partial}{\\partial {z^{[2]}}_{1,4}} \\mathcal{L}{\\left(y,\\hat{y} \\right)} {W^{[2]}}_{1,2} & \\frac{\\partial}{\\partial {z^{[2]}}_{1,4}} \\mathcal{L}{\\left(y,\\hat{y} \\right)} {W^{[2]}}_{1,3}\\\\\n",
       "\\frac{\\partial}{\\partial {z^{[2]}}_{1,1}} \\mathcal{L}{\\left(y,\\hat{y} \\right)} {W^{[2]}}_{2,1} + \\frac{\\partial}{\\partial {z^{[2]}}_{2,1}} \\mathcal{L}{\\left(y,\\hat{y} \\right)} {W^{[2]}}_{1,1} & \\frac{\\partial}{\\partial {z^{[2]}}_{1,1}} \\mathcal{L}{\\left(y,\\hat{y} \\right)} {W^{[2]}}_{2,2} + \\frac{\\partial}{\\partial {z^{[2]}}_{1,2}} \\mathcal{L}{\\left(y,\\hat{y} \\right)} {W^{[2]}}_{2,1} + \\frac{\\partial}{\\partial {z^{[2]}}_{2,1}} \\mathcal{L}{\\left(y,\\hat{y} \\right)} {W^{[2]}}_{1,2} + \\frac{\\partial}{\\partial {z^{[2]}}_{2,2}} \\mathcal{L}{\\left(y,\\hat{y} \\right)} {W^{[2]}}_{1,1} & \\frac{\\partial}{\\partial {z^{[2]}}_{1,1}} \\mathcal{L}{\\left(y,\\hat{y} \\right)} {W^{[2]}}_{2,3} + \\frac{\\partial}{\\partial {z^{[2]}}_{1,2}} \\mathcal{L}{\\left(y,\\hat{y} \\right)} {W^{[2]}}_{2,2} + \\frac{\\partial}{\\partial {z^{[2]}}_{1,3}} \\mathcal{L}{\\left(y,\\hat{y} \\right)} {W^{[2]}}_{2,1} + \\frac{\\partial}{\\partial {z^{[2]}}_{2,1}} \\mathcal{L}{\\left(y,\\hat{y} \\right)} {W^{[2]}}_{1,3} + \\frac{\\partial}{\\partial {z^{[2]}}_{2,2}} \\mathcal{L}{\\left(y,\\hat{y} \\right)} {W^{[2]}}_{1,2} + \\frac{\\partial}{\\partial {z^{[2]}}_{2,3}} \\mathcal{L}{\\left(y,\\hat{y} \\right)} {W^{[2]}}_{1,1} & \\frac{\\partial}{\\partial {z^{[2]}}_{1,2}} \\mathcal{L}{\\left(y,\\hat{y} \\right)} {W^{[2]}}_{2,3} + \\frac{\\partial}{\\partial {z^{[2]}}_{1,3}} \\mathcal{L}{\\left(y,\\hat{y} \\right)} {W^{[2]}}_{2,2} + \\frac{\\partial}{\\partial {z^{[2]}}_{1,4}} \\mathcal{L}{\\left(y,\\hat{y} \\right)} {W^{[2]}}_{2,1} + \\frac{\\partial}{\\partial {z^{[2]}}_{2,2}} \\mathcal{L}{\\left(y,\\hat{y} \\right)} {W^{[2]}}_{1,3} + \\frac{\\partial}{\\partial {z^{[2]}}_{2,3}} \\mathcal{L}{\\left(y,\\hat{y} \\right)} {W^{[2]}}_{1,2} + \\frac{\\partial}{\\partial {z^{[2]}}_{2,4}} \\mathcal{L}{\\left(y,\\hat{y} \\right)} {W^{[2]}}_{1,1} & \\frac{\\partial}{\\partial {z^{[2]}}_{1,3}} \\mathcal{L}{\\left(y,\\hat{y} \\right)} {W^{[2]}}_{2,3} + \\frac{\\partial}{\\partial {z^{[2]}}_{1,4}} \\mathcal{L}{\\left(y,\\hat{y} \\right)} {W^{[2]}}_{2,2} + \\frac{\\partial}{\\partial {z^{[2]}}_{2,3}} \\mathcal{L}{\\left(y,\\hat{y} \\right)} {W^{[2]}}_{1,3} + \\frac{\\partial}{\\partial {z^{[2]}}_{2,4}} \\mathcal{L}{\\left(y,\\hat{y} \\right)} {W^{[2]}}_{1,2} & \\frac{\\partial}{\\partial {z^{[2]}}_{1,4}} \\mathcal{L}{\\left(y,\\hat{y} \\right)} {W^{[2]}}_{2,3} + \\frac{\\partial}{\\partial {z^{[2]}}_{2,4}} \\mathcal{L}{\\left(y,\\hat{y} \\right)} {W^{[2]}}_{1,3}\\\\\n",
       "\\frac{\\partial}{\\partial {z^{[2]}}_{1,1}} \\mathcal{L}{\\left(y,\\hat{y} \\right)} {W^{[2]}}_{3,1} + \\frac{\\partial}{\\partial {z^{[2]}}_{2,1}} \\mathcal{L}{\\left(y,\\hat{y} \\right)} {W^{[2]}}_{2,1} + \\frac{\\partial}{\\partial {z^{[2]}}_{3,1}} \\mathcal{L}{\\left(y,\\hat{y} \\right)} {W^{[2]}}_{1,1} & \\frac{\\partial}{\\partial {z^{[2]}}_{1,1}} \\mathcal{L}{\\left(y,\\hat{y} \\right)} {W^{[2]}}_{3,2} + \\frac{\\partial}{\\partial {z^{[2]}}_{1,2}} \\mathcal{L}{\\left(y,\\hat{y} \\right)} {W^{[2]}}_{3,1} + \\frac{\\partial}{\\partial {z^{[2]}}_{2,1}} \\mathcal{L}{\\left(y,\\hat{y} \\right)} {W^{[2]}}_{2,2} + \\frac{\\partial}{\\partial {z^{[2]}}_{2,2}} \\mathcal{L}{\\left(y,\\hat{y} \\right)} {W^{[2]}}_{2,1} + \\frac{\\partial}{\\partial {z^{[2]}}_{3,1}} \\mathcal{L}{\\left(y,\\hat{y} \\right)} {W^{[2]}}_{1,2} + \\frac{\\partial}{\\partial {z^{[2]}}_{3,2}} \\mathcal{L}{\\left(y,\\hat{y} \\right)} {W^{[2]}}_{1,1} & \\frac{\\partial}{\\partial {z^{[2]}}_{1,1}} \\mathcal{L}{\\left(y,\\hat{y} \\right)} {W^{[2]}}_{3,3} + \\frac{\\partial}{\\partial {z^{[2]}}_{1,2}} \\mathcal{L}{\\left(y,\\hat{y} \\right)} {W^{[2]}}_{3,2} + \\frac{\\partial}{\\partial {z^{[2]}}_{1,3}} \\mathcal{L}{\\left(y,\\hat{y} \\right)} {W^{[2]}}_{3,1} + \\frac{\\partial}{\\partial {z^{[2]}}_{2,1}} \\mathcal{L}{\\left(y,\\hat{y} \\right)} {W^{[2]}}_{2,3} + \\frac{\\partial}{\\partial {z^{[2]}}_{2,2}} \\mathcal{L}{\\left(y,\\hat{y} \\right)} {W^{[2]}}_{2,2} + \\frac{\\partial}{\\partial {z^{[2]}}_{2,3}} \\mathcal{L}{\\left(y,\\hat{y} \\right)} {W^{[2]}}_{2,1} + \\frac{\\partial}{\\partial {z^{[2]}}_{3,1}} \\mathcal{L}{\\left(y,\\hat{y} \\right)} {W^{[2]}}_{1,3} + \\frac{\\partial}{\\partial {z^{[2]}}_{3,2}} \\mathcal{L}{\\left(y,\\hat{y} \\right)} {W^{[2]}}_{1,2} + \\frac{\\partial}{\\partial {z^{[2]}}_{3,3}} \\mathcal{L}{\\left(y,\\hat{y} \\right)} {W^{[2]}}_{1,1} & \\frac{\\partial}{\\partial {z^{[2]}}_{1,2}} \\mathcal{L}{\\left(y,\\hat{y} \\right)} {W^{[2]}}_{3,3} + \\frac{\\partial}{\\partial {z^{[2]}}_{1,3}} \\mathcal{L}{\\left(y,\\hat{y} \\right)} {W^{[2]}}_{3,2} + \\frac{\\partial}{\\partial {z^{[2]}}_{1,4}} \\mathcal{L}{\\left(y,\\hat{y} \\right)} {W^{[2]}}_{3,1} + \\frac{\\partial}{\\partial {z^{[2]}}_{2,2}} \\mathcal{L}{\\left(y,\\hat{y} \\right)} {W^{[2]}}_{2,3} + \\frac{\\partial}{\\partial {z^{[2]}}_{2,3}} \\mathcal{L}{\\left(y,\\hat{y} \\right)} {W^{[2]}}_{2,2} + \\frac{\\partial}{\\partial {z^{[2]}}_{2,4}} \\mathcal{L}{\\left(y,\\hat{y} \\right)} {W^{[2]}}_{2,1} + \\frac{\\partial}{\\partial {z^{[2]}}_{3,2}} \\mathcal{L}{\\left(y,\\hat{y} \\right)} {W^{[2]}}_{1,3} + \\frac{\\partial}{\\partial {z^{[2]}}_{3,3}} \\mathcal{L}{\\left(y,\\hat{y} \\right)} {W^{[2]}}_{1,2} + \\frac{\\partial}{\\partial {z^{[2]}}_{3,4}} \\mathcal{L}{\\left(y,\\hat{y} \\right)} {W^{[2]}}_{1,1} & \\frac{\\partial}{\\partial {z^{[2]}}_{1,3}} \\mathcal{L}{\\left(y,\\hat{y} \\right)} {W^{[2]}}_{3,3} + \\frac{\\partial}{\\partial {z^{[2]}}_{1,4}} \\mathcal{L}{\\left(y,\\hat{y} \\right)} {W^{[2]}}_{3,2} + \\frac{\\partial}{\\partial {z^{[2]}}_{2,3}} \\mathcal{L}{\\left(y,\\hat{y} \\right)} {W^{[2]}}_{2,3} + \\frac{\\partial}{\\partial {z^{[2]}}_{2,4}} \\mathcal{L}{\\left(y,\\hat{y} \\right)} {W^{[2]}}_{2,2} + \\frac{\\partial}{\\partial {z^{[2]}}_{3,3}} \\mathcal{L}{\\left(y,\\hat{y} \\right)} {W^{[2]}}_{1,3} + \\frac{\\partial}{\\partial {z^{[2]}}_{3,4}} \\mathcal{L}{\\left(y,\\hat{y} \\right)} {W^{[2]}}_{1,2} & \\frac{\\partial}{\\partial {z^{[2]}}_{1,4}} \\mathcal{L}{\\left(y,\\hat{y} \\right)} {W^{[2]}}_{3,3} + \\frac{\\partial}{\\partial {z^{[2]}}_{2,4}} \\mathcal{L}{\\left(y,\\hat{y} \\right)} {W^{[2]}}_{2,3} + \\frac{\\partial}{\\partial {z^{[2]}}_{3,4}} \\mathcal{L}{\\left(y,\\hat{y} \\right)} {W^{[2]}}_{1,3}\\\\\n",
       "\\frac{\\partial}{\\partial {z^{[2]}}_{2,1}} \\mathcal{L}{\\left(y,\\hat{y} \\right)} {W^{[2]}}_{3,1} + \\frac{\\partial}{\\partial {z^{[2]}}_{3,1}} \\mathcal{L}{\\left(y,\\hat{y} \\right)} {W^{[2]}}_{2,1} + \\frac{\\partial}{\\partial {z^{[2]}}_{4,1}} \\mathcal{L}{\\left(y,\\hat{y} \\right)} {W^{[2]}}_{1,1} & \\frac{\\partial}{\\partial {z^{[2]}}_{2,1}} \\mathcal{L}{\\left(y,\\hat{y} \\right)} {W^{[2]}}_{3,2} + \\frac{\\partial}{\\partial {z^{[2]}}_{2,2}} \\mathcal{L}{\\left(y,\\hat{y} \\right)} {W^{[2]}}_{3,1} + \\frac{\\partial}{\\partial {z^{[2]}}_{3,1}} \\mathcal{L}{\\left(y,\\hat{y} \\right)} {W^{[2]}}_{2,2} + \\frac{\\partial}{\\partial {z^{[2]}}_{3,2}} \\mathcal{L}{\\left(y,\\hat{y} \\right)} {W^{[2]}}_{2,1} + \\frac{\\partial}{\\partial {z^{[2]}}_{4,1}} \\mathcal{L}{\\left(y,\\hat{y} \\right)} {W^{[2]}}_{1,2} + \\frac{\\partial}{\\partial {z^{[2]}}_{4,2}} \\mathcal{L}{\\left(y,\\hat{y} \\right)} {W^{[2]}}_{1,1} & \\frac{\\partial}{\\partial {z^{[2]}}_{2,1}} \\mathcal{L}{\\left(y,\\hat{y} \\right)} {W^{[2]}}_{3,3} + \\frac{\\partial}{\\partial {z^{[2]}}_{2,2}} \\mathcal{L}{\\left(y,\\hat{y} \\right)} {W^{[2]}}_{3,2} + \\frac{\\partial}{\\partial {z^{[2]}}_{2,3}} \\mathcal{L}{\\left(y,\\hat{y} \\right)} {W^{[2]}}_{3,1} + \\frac{\\partial}{\\partial {z^{[2]}}_{3,1}} \\mathcal{L}{\\left(y,\\hat{y} \\right)} {W^{[2]}}_{2,3} + \\frac{\\partial}{\\partial {z^{[2]}}_{3,2}} \\mathcal{L}{\\left(y,\\hat{y} \\right)} {W^{[2]}}_{2,2} + \\frac{\\partial}{\\partial {z^{[2]}}_{3,3}} \\mathcal{L}{\\left(y,\\hat{y} \\right)} {W^{[2]}}_{2,1} + \\frac{\\partial}{\\partial {z^{[2]}}_{4,1}} \\mathcal{L}{\\left(y,\\hat{y} \\right)} {W^{[2]}}_{1,3} + \\frac{\\partial}{\\partial {z^{[2]}}_{4,2}} \\mathcal{L}{\\left(y,\\hat{y} \\right)} {W^{[2]}}_{1,2} + \\frac{\\partial}{\\partial {z^{[2]}}_{4,3}} \\mathcal{L}{\\left(y,\\hat{y} \\right)} {W^{[2]}}_{1,1} & \\frac{\\partial}{\\partial {z^{[2]}}_{2,2}} \\mathcal{L}{\\left(y,\\hat{y} \\right)} {W^{[2]}}_{3,3} + \\frac{\\partial}{\\partial {z^{[2]}}_{2,3}} \\mathcal{L}{\\left(y,\\hat{y} \\right)} {W^{[2]}}_{3,2} + \\frac{\\partial}{\\partial {z^{[2]}}_{2,4}} \\mathcal{L}{\\left(y,\\hat{y} \\right)} {W^{[2]}}_{3,1} + \\frac{\\partial}{\\partial {z^{[2]}}_{3,2}} \\mathcal{L}{\\left(y,\\hat{y} \\right)} {W^{[2]}}_{2,3} + \\frac{\\partial}{\\partial {z^{[2]}}_{3,3}} \\mathcal{L}{\\left(y,\\hat{y} \\right)} {W^{[2]}}_{2,2} + \\frac{\\partial}{\\partial {z^{[2]}}_{3,4}} \\mathcal{L}{\\left(y,\\hat{y} \\right)} {W^{[2]}}_{2,1} + \\frac{\\partial}{\\partial {z^{[2]}}_{4,2}} \\mathcal{L}{\\left(y,\\hat{y} \\right)} {W^{[2]}}_{1,3} + \\frac{\\partial}{\\partial {z^{[2]}}_{4,3}} \\mathcal{L}{\\left(y,\\hat{y} \\right)} {W^{[2]}}_{1,2} + \\frac{\\partial}{\\partial {z^{[2]}}_{4,4}} \\mathcal{L}{\\left(y,\\hat{y} \\right)} {W^{[2]}}_{1,1} & \\frac{\\partial}{\\partial {z^{[2]}}_{2,3}} \\mathcal{L}{\\left(y,\\hat{y} \\right)} {W^{[2]}}_{3,3} + \\frac{\\partial}{\\partial {z^{[2]}}_{2,4}} \\mathcal{L}{\\left(y,\\hat{y} \\right)} {W^{[2]}}_{3,2} + \\frac{\\partial}{\\partial {z^{[2]}}_{3,3}} \\mathcal{L}{\\left(y,\\hat{y} \\right)} {W^{[2]}}_{2,3} + \\frac{\\partial}{\\partial {z^{[2]}}_{3,4}} \\mathcal{L}{\\left(y,\\hat{y} \\right)} {W^{[2]}}_{2,2} + \\frac{\\partial}{\\partial {z^{[2]}}_{4,3}} \\mathcal{L}{\\left(y,\\hat{y} \\right)} {W^{[2]}}_{1,3} + \\frac{\\partial}{\\partial {z^{[2]}}_{4,4}} \\mathcal{L}{\\left(y,\\hat{y} \\right)} {W^{[2]}}_{1,2} & \\frac{\\partial}{\\partial {z^{[2]}}_{2,4}} \\mathcal{L}{\\left(y,\\hat{y} \\right)} {W^{[2]}}_{3,3} + \\frac{\\partial}{\\partial {z^{[2]}}_{3,4}} \\mathcal{L}{\\left(y,\\hat{y} \\right)} {W^{[2]}}_{2,3} + \\frac{\\partial}{\\partial {z^{[2]}}_{4,4}} \\mathcal{L}{\\left(y,\\hat{y} \\right)} {W^{[2]}}_{1,3}\\\\\n",
       "\\frac{\\partial}{\\partial {z^{[2]}}_{3,1}} \\mathcal{L}{\\left(y,\\hat{y} \\right)} {W^{[2]}}_{3,1} + \\frac{\\partial}{\\partial {z^{[2]}}_{4,1}} \\mathcal{L}{\\left(y,\\hat{y} \\right)} {W^{[2]}}_{2,1} & \\frac{\\partial}{\\partial {z^{[2]}}_{3,1}} \\mathcal{L}{\\left(y,\\hat{y} \\right)} {W^{[2]}}_{3,2} + \\frac{\\partial}{\\partial {z^{[2]}}_{3,2}} \\mathcal{L}{\\left(y,\\hat{y} \\right)} {W^{[2]}}_{3,1} + \\frac{\\partial}{\\partial {z^{[2]}}_{4,1}} \\mathcal{L}{\\left(y,\\hat{y} \\right)} {W^{[2]}}_{2,2} + \\frac{\\partial}{\\partial {z^{[2]}}_{4,2}} \\mathcal{L}{\\left(y,\\hat{y} \\right)} {W^{[2]}}_{2,1} & \\frac{\\partial}{\\partial {z^{[2]}}_{3,1}} \\mathcal{L}{\\left(y,\\hat{y} \\right)} {W^{[2]}}_{3,3} + \\frac{\\partial}{\\partial {z^{[2]}}_{3,2}} \\mathcal{L}{\\left(y,\\hat{y} \\right)} {W^{[2]}}_{3,2} + \\frac{\\partial}{\\partial {z^{[2]}}_{3,3}} \\mathcal{L}{\\left(y,\\hat{y} \\right)} {W^{[2]}}_{3,1} + \\frac{\\partial}{\\partial {z^{[2]}}_{4,1}} \\mathcal{L}{\\left(y,\\hat{y} \\right)} {W^{[2]}}_{2,3} + \\frac{\\partial}{\\partial {z^{[2]}}_{4,2}} \\mathcal{L}{\\left(y,\\hat{y} \\right)} {W^{[2]}}_{2,2} + \\frac{\\partial}{\\partial {z^{[2]}}_{4,3}} \\mathcal{L}{\\left(y,\\hat{y} \\right)} {W^{[2]}}_{2,1} & \\frac{\\partial}{\\partial {z^{[2]}}_{3,2}} \\mathcal{L}{\\left(y,\\hat{y} \\right)} {W^{[2]}}_{3,3} + \\frac{\\partial}{\\partial {z^{[2]}}_{3,3}} \\mathcal{L}{\\left(y,\\hat{y} \\right)} {W^{[2]}}_{3,2} + \\frac{\\partial}{\\partial {z^{[2]}}_{3,4}} \\mathcal{L}{\\left(y,\\hat{y} \\right)} {W^{[2]}}_{3,1} + \\frac{\\partial}{\\partial {z^{[2]}}_{4,2}} \\mathcal{L}{\\left(y,\\hat{y} \\right)} {W^{[2]}}_{2,3} + \\frac{\\partial}{\\partial {z^{[2]}}_{4,3}} \\mathcal{L}{\\left(y,\\hat{y} \\right)} {W^{[2]}}_{2,2} + \\frac{\\partial}{\\partial {z^{[2]}}_{4,4}} \\mathcal{L}{\\left(y,\\hat{y} \\right)} {W^{[2]}}_{2,1} & \\frac{\\partial}{\\partial {z^{[2]}}_{3,3}} \\mathcal{L}{\\left(y,\\hat{y} \\right)} {W^{[2]}}_{3,3} + \\frac{\\partial}{\\partial {z^{[2]}}_{3,4}} \\mathcal{L}{\\left(y,\\hat{y} \\right)} {W^{[2]}}_{3,2} + \\frac{\\partial}{\\partial {z^{[2]}}_{4,3}} \\mathcal{L}{\\left(y,\\hat{y} \\right)} {W^{[2]}}_{2,3} + \\frac{\\partial}{\\partial {z^{[2]}}_{4,4}} \\mathcal{L}{\\left(y,\\hat{y} \\right)} {W^{[2]}}_{2,2} & \\frac{\\partial}{\\partial {z^{[2]}}_{3,4}} \\mathcal{L}{\\left(y,\\hat{y} \\right)} {W^{[2]}}_{3,3} + \\frac{\\partial}{\\partial {z^{[2]}}_{4,4}} \\mathcal{L}{\\left(y,\\hat{y} \\right)} {W^{[2]}}_{2,3}\\\\\n",
       "\\frac{\\partial}{\\partial {z^{[2]}}_{4,1}} \\mathcal{L}{\\left(y,\\hat{y} \\right)} {W^{[2]}}_{3,1} & \\frac{\\partial}{\\partial {z^{[2]}}_{4,1}} \\mathcal{L}{\\left(y,\\hat{y} \\right)} {W^{[2]}}_{3,2} + \\frac{\\partial}{\\partial {z^{[2]}}_{4,2}} \\mathcal{L}{\\left(y,\\hat{y} \\right)} {W^{[2]}}_{3,1} & \\frac{\\partial}{\\partial {z^{[2]}}_{4,1}} \\mathcal{L}{\\left(y,\\hat{y} \\right)} {W^{[2]}}_{3,3} + \\frac{\\partial}{\\partial {z^{[2]}}_{4,2}} \\mathcal{L}{\\left(y,\\hat{y} \\right)} {W^{[2]}}_{3,2} + \\frac{\\partial}{\\partial {z^{[2]}}_{4,3}} \\mathcal{L}{\\left(y,\\hat{y} \\right)} {W^{[2]}}_{3,1} & \\frac{\\partial}{\\partial {z^{[2]}}_{4,2}} \\mathcal{L}{\\left(y,\\hat{y} \\right)} {W^{[2]}}_{3,3} + \\frac{\\partial}{\\partial {z^{[2]}}_{4,3}} \\mathcal{L}{\\left(y,\\hat{y} \\right)} {W^{[2]}}_{3,2} + \\frac{\\partial}{\\partial {z^{[2]}}_{4,4}} \\mathcal{L}{\\left(y,\\hat{y} \\right)} {W^{[2]}}_{3,1} & \\frac{\\partial}{\\partial {z^{[2]}}_{4,3}} \\mathcal{L}{\\left(y,\\hat{y} \\right)} {W^{[2]}}_{3,3} + \\frac{\\partial}{\\partial {z^{[2]}}_{4,4}} \\mathcal{L}{\\left(y,\\hat{y} \\right)} {W^{[2]}}_{3,2} & \\frac{\\partial}{\\partial {z^{[2]}}_{4,4}} \\mathcal{L}{\\left(y,\\hat{y} \\right)} {W^{[2]}}_{3,3}\\end{bmatrix}\n",
       "$$"
      ],
      "text/plain": [
       "<IPython.core.display.Markdown object>"
      ]
     },
     "execution_count": null,
     "metadata": {},
     "output_type": "execute_result"
    }
   ],
   "source": [
    "da1 = matrix_matrix_chain_rule(dz2, z2, a1)\n",
    "\n",
    "Markdown(matrix_to_markdown(da1))"
   ]
  },
  {
   "attachments": {},
   "cell_type": "markdown",
   "metadata": {},
   "source": [
    "Again, an matrix of expressions and the shape looks interesting. Because these expressions are sums of products of indexed expressions, we can build a highlights map and visualize it. "
   ]
  },
  {
   "cell_type": "code",
   "execution_count": null,
   "metadata": {},
   "outputs": [],
   "source": [
    "# | code-fold: true\n",
    "class BackPropDa1(Scene):\n",
    "    def construct(self):\n",
    "        # Create a1, W2, and convolve them:\n",
    "        a1 = ndarray_of_indexed_base(IndexedBase(r'a^{[1]}'), (6, 6))\n",
    "        W2 = ndarray_of_indexed_base(IndexedBase(r'W^{[2]}'), (3, 3))\n",
    "        b2 = symbols(r'b^{[2]}')\n",
    "        z2 = convolve(a1, W2, 0, 1) + b2\n",
    "\n",
    "        # Set up the loss function symbolically.\n",
    "        y = symbols('y')\n",
    "        yhat = symbols(r'\\hat{y}')\n",
    "        L = Function(r'\\mathcal{L}')(y, yhat)\n",
    "\n",
    "        # Build dL/dz2\n",
    "        dz2 = ndarray_of_indexed_base(\n",
    "            IndexedBase(r'z^{[2]}'), z2.shape, transform=lambda x: Derivative(L, x)\n",
    "        )\n",
    "\n",
    "        # Build dL/da1\n",
    "        da1 = ndarray_of_indexed_base(\n",
    "            IndexedBase(r'a^{[1]}'), a1.shape, transform=lambda x: Derivative(L, x)\n",
    "        )\n",
    "\n",
    "        # Do the calculation to get the expressions for da1\n",
    "        da1_expr = matrix_matrix_chain_rule(dz2, z2, a1)\n",
    "\n",
    "        dz2_view, W2_view, da1_view = draw_matrices(\n",
    "            scene=self,\n",
    "            matrices_and_labels=[\n",
    "                (dz2, MathTex(r'\\frac{\\partial \\mathcal{L}}{\\partial z^{[2]}}')),\n",
    "                (W2, MathTex(r'W^{[2]}')),\n",
    "                (da1, MathTex(r'\\frac{\\partial \\mathcal{L}}{\\partial a^{[1]}}')),\n",
    "            ],\n",
    "        )\n",
    "\n",
    "        # Map matrix names to views\n",
    "        array_to_view_map = {\n",
    "            r'a^{[1]}': da1_view,\n",
    "            r'W^{[2]}': W2_view,\n",
    "            r'z^{[2]}': dz2_view,\n",
    "        }\n",
    "\n",
    "        # Build highlight maps\n",
    "        highlight_maps = build_highlights_map_ufunc(da1_expr)\n",
    "\n",
    "        animate_highlights_map(self, highlight_maps, da1_view, array_to_view_map)"
   ]
  },
  {
   "cell_type": "code",
   "execution_count": null,
   "metadata": {},
   "outputs": [],
   "source": [
    "# | echo: false\n",
    "render_video(BackPropDa1)"
   ]
  },
  {
   "cell_type": "code",
   "execution_count": null,
   "metadata": {},
   "outputs": [
    {
     "data": {
      "image/jpeg": "[encoded data removed]",
      "text/html": [
       "\n",
       "        <iframe\n",
       "            width=\"400\"\n",
       "            height=\"300\"\n",
       "            src=\"https://www.youtube.com/embed/oZ9CKJ1gYls?loop=1&mute=1&playlist=oZ9CKJ1gYls&autoplay=1\"\n",
       "            frameborder=\"0\"\n",
       "            allowfullscreen\n",
       "            allow=\"autoplay\"\n",
       "        ></iframe>\n",
       "        "
      ],
      "text/plain": [
       "<IPython.lib.display.YouTubeVideo>"
      ]
     },
     "execution_count": null,
     "metadata": {},
     "output_type": "execute_result"
    }
   ],
   "source": [
    "#| echo: false\n",
    "video_id = 'oZ9CKJ1gYls'\n",
    "YouTubeVideo(video_id, allow_autoplay=True, loop=1, mute=1, playlist=video_id)"
   ]
  },
  {
   "attachments": {},
   "cell_type": "markdown",
   "metadata": {},
   "source": [
    "Like in other examples, I've put the inputs on the left and middle and the output ($\\frac{\\partial \\mathcal{L}}{\\partial a^{[1]}}$) on the right. This is not quite a straight convolution like we saw in $\\frac{\\partial \\mathcal{L}}{\\partial W^{[2]}}$, but it does look somewhat reminiscient of the full convolution (convolution with padding) we looked at in the [Other Forms of Convolution](#other-forms-of-convolution) section. Only, it's sort of backwards. Whereas in the full convolution, the multiplications start with the bottom-right corner of the convolution filter, here they start at the top-left. We could make this match by rotating $W^{[2]}$ by 180°."
   ]
  },
  {
   "cell_type": "code",
   "execution_count": null,
   "metadata": {},
   "outputs": [],
   "source": [
    "# | code-fold: true\n",
    "class BackPropDa1WithRotation(Scene):\n",
    "    def construct(self):\n",
    "        # Create a1, W2, and convolve them:\n",
    "        a1 = ndarray_of_indexed_base(IndexedBase(r'a^{[1]}'), (6, 6))\n",
    "        W2 = ndarray_of_indexed_base(IndexedBase(r'W^{[2]}'), (3, 3))\n",
    "        b2 = symbols(r'b^{[2]}')\n",
    "        z2 = convolve(a1, W2, 0, 1) + b2\n",
    "\n",
    "        # Set up the loss function symbolically.\n",
    "        y = symbols('y')\n",
    "        yhat = symbols(r'\\hat{y}')\n",
    "        L = Function(r'\\mathcal{L}')(y, yhat)\n",
    "\n",
    "        # Build dL/dz2\n",
    "        dz2 = ndarray_of_indexed_base(\n",
    "            IndexedBase(r'z^{[2]}'), z2.shape, transform=lambda x: Derivative(L, x)\n",
    "        )\n",
    "\n",
    "        # Build dL/da1\n",
    "        da1 = ndarray_of_indexed_base(\n",
    "            IndexedBase(r'a^{[1]}'), a1.shape, transform=lambda x: Derivative(L, x)\n",
    "        )\n",
    "\n",
    "        # Do the calculation to get the expressions for da1\n",
    "        da1_expr = matrix_matrix_chain_rule(dz2, z2, a1)\n",
    "\n",
    "        dz2_view, W2_view, da1_view = draw_matrices(\n",
    "            scene=self,\n",
    "            matrices_and_labels=[\n",
    "                (dz2, MathTex(r'\\frac{\\partial \\mathcal{L}}{\\partial z^{[2]}}')),\n",
    "                (W2, MathTex(r'W^{[2]}')),\n",
    "                (da1, MathTex(r'\\frac{\\partial \\mathcal{L}}{\\partial a^{[1]}}')),\n",
    "            ],\n",
    "        )\n",
    "\n",
    "        # Rotate W2 and draw a curved arrow to indicate the rotation\n",
    "        radius = 0.3  # radius of the curved arrow\n",
    "        angle = PI  # angle the arrow (and W2) should rotate through\n",
    "        arrow_end = W2_view.get_critical_point(DOWN) + np.array(\n",
    "            [0, -0.9, 0]\n",
    "        )  # end the arrow .9 down from W2\n",
    "        arrow_start = arrow_end + np.array(\n",
    "            [radius * math.sin(angle), radius - (radius * math.cos(angle)), 0]\n",
    "        )  # calculate the arrow start based on the end and the radius + angle\n",
    "        curved_arrow = CurvedArrow(\n",
    "            start_point=arrow_start,\n",
    "            end_point=arrow_end,\n",
    "            radius=-radius,\n",
    "        )\n",
    "\n",
    "        self.wait(1)\n",
    "        self.play(\n",
    "            Rotate(W2_view, angle=-angle, rate_func=linear),\n",
    "            Create(curved_arrow, rate_func=linear),\n",
    "        )\n",
    "        self.wait(1)\n",
    "\n",
    "        # Map matrix names to views\n",
    "        array_to_view_map = {\n",
    "            r'a^{[1]}': da1_view,\n",
    "            r'W^{[2]}': W2_view,\n",
    "            r'z^{[2]}': dz2_view,\n",
    "        }\n",
    "\n",
    "        # Build highlight maps\n",
    "        highlight_maps = build_highlights_map_ufunc(da1_expr)\n",
    "\n",
    "        animate_highlights_map(self, highlight_maps, da1_view, array_to_view_map)"
   ]
  },
  {
   "cell_type": "code",
   "execution_count": null,
   "metadata": {},
   "outputs": [],
   "source": [
    "# | echo: false\n",
    "render_video(BackPropDa1WithRotation)"
   ]
  },
  {
   "cell_type": "code",
   "execution_count": null,
   "metadata": {},
   "outputs": [
    {
     "data": {
      "image/jpeg": "[encoded data removed]",
      "text/html": [
       "\n",
       "        <iframe\n",
       "            width=\"400\"\n",
       "            height=\"300\"\n",
       "            src=\"https://www.youtube.com/embed/RllkdgU7R_A?loop=1&mute=1&playlist=RllkdgU7R_A&autoplay=1\"\n",
       "            frameborder=\"0\"\n",
       "            allowfullscreen\n",
       "            allow=\"autoplay\"\n",
       "        ></iframe>\n",
       "        "
      ],
      "text/plain": [
       "<IPython.lib.display.YouTubeVideo>"
      ]
     },
     "execution_count": null,
     "metadata": {},
     "output_type": "execute_result"
    }
   ],
   "source": [
    "#| echo: false\n",
    "video_id = 'RllkdgU7R_A'\n",
    "YouTubeVideo(video_id, allow_autoplay=True, loop=1, mute=1, playlist=video_id)"
   ]
  },
  {
   "attachments": {},
   "cell_type": "markdown",
   "metadata": {},
   "source": [
    "So we can conclude that\n",
    "\n",
    "$$\n",
    "\\frac{\\partial \\mathcal{L}}{\\partial a^{[1]}} = \\frac{\\partial \\mathcal{L}}{\\partial z^{[2]}} *_{full} rotate180(W^{[2]})\n",
    "$$\n",
    "\n",
    ">I wasn't able to find an official mathematical notation for \"full convolution\" so I just made up $*_{full}$\n",
    "\n",
    "We can also check it in code:"
   ]
  },
  {
   "cell_type": "code",
   "execution_count": null,
   "metadata": {},
   "outputs": [],
   "source": [
    "# Test that the full convolution of dz2 with the 180°-rotated W2 is equal to the da1 we calculated.\n",
    "test_eq(\n",
    "    convolve(\n",
    "        dz2, np.rot90(W2, k=2, axes=(1, 0)), zero_pad_width=W2.shape[0] - 1, stride=1\n",
    "    ),\n",
    "    da1,\n",
    ")"
   ]
  },
  {
   "attachments": {},
   "cell_type": "markdown",
   "metadata": {},
   "source": [
    "### Deriving $\\frac{\\partial \\mathcal{L}}{\\partial b^{[2]}}$\n",
    "\n",
    "Now let's tackle $\\frac{\\partial \\mathcal{L}}{\\partial b^{[2]}}$: the gradient of the loss with respect to the bias term, $b^{[2]}$. In our calculation of $z^{[2]}$:\n",
    "\n",
    "$$\n",
    "z^{[2]} = a^{[1]} * W^{[2]} + b^{[2]}\n",
    "$$\n",
    "\n",
    "$b^{[2]}$ is a scalar that we add to each element of the matrix, $a^{[1]} * W^{[2]}$. For the purpose of this derivation, it's helpful to think of $b^{[2]}$ as a matrix with the same dimensions as $a^{[1]} * W^{[2]}$ in which the value of every element is the scalar value of $b^{[2]}$:\n",
    "\n",
    "$$\n",
    "\\begin{bmatrix}\n",
    "b^{[2]} & b^{[2]} & b^{[2]} & b^{[2]}\\\\\n",
    "b^{[2]} & b^{[2]} & b^{[2]} & b^{[2]}\\\\\n",
    "b^{[2]} & b^{[2]} & b^{[2]} & b^{[2]}\\\\\n",
    "b^{[2]} & b^{[2]} & b^{[2]} & b^{[2]}\\\\\n",
    "\\end{bmatrix}\n",
    "$$\n",
    "\n",
    "To distinguish the scalar $b^{[2]}$ clearly from the matrix version, we'll call the matrix version $\\mathbf{B^{[2]}}$:\n",
    "\n",
    "$$\n",
    "\\mathbf{B^{[2]}} = \n",
    "\\def\\arraystretch{1.5}\n",
    "\\begin{bmatrix}\n",
    "\\mathbf{B^{[2]}_{11}} & \\mathbf{B^{[2]}_{12}} & \\mathbf{B^{[2]}_{13}} & \\mathbf{B^{[2]}_{14}}\\\\\n",
    "\\mathbf{B^{[2]}_{21}} & \\mathbf{B^{[2]}_{22}} & \\mathbf{B^{[2]}_{23}} & \\mathbf{B^{[2]}_{24}}\\\\\n",
    "\\mathbf{B^{[2]}_{31}} & \\mathbf{B^{[2]}_{32}} & \\mathbf{B^{[2]}_{33}} & \\mathbf{B^{[2]}_{34}}\\\\\n",
    "\\mathbf{B^{[2]}_{41}} & \\mathbf{B^{[2]}_{42}} & \\mathbf{B^{[2]}_{43}} & \\mathbf{B^{[2]}_{44}}\\\\\n",
    "\\end{bmatrix}\n",
    "=\n",
    "\\begin{bmatrix}\n",
    "b^{[2]} & b^{[2]} & b^{[2]} & b^{[2]}\\\\\n",
    "b^{[2]} & b^{[2]} & b^{[2]} & b^{[2]}\\\\\n",
    "b^{[2]} & b^{[2]} & b^{[2]} & b^{[2]}\\\\\n",
    "b^{[2]} & b^{[2]} & b^{[2]} & b^{[2]}\\\\\n",
    "\\end{bmatrix}\n",
    "$$\n",
    "\n",
    "and plug it into the formula for $z^{[2]}$:\n",
    "\n",
    "$$\n",
    "z^{[2]} = a^{[1]} * W^{[2]} + \\mathbf{B^{[2]}}\n",
    "$$\n",
    "Now the plus sign in the formular above is just plain matrix (element-wise) addition.\n",
    "\n",
    ">Note: The transformation from $b^{[2]}$ to $\\mathbf{B^{[2]}}$ I've written out here actually happens implicitly in the code we wrote earlier (`z2 = convolve(a1, W2, 0, 1) + b2`) because of [NumPy broadcasting](https://numpy.org/doc/stable/user/basics.broadcasting.html).\n",
    "\n",
    "We can then calculate the derivative of $\\mathcal{L}$ with respect to this $\\mathbf{B^{[2]}}$ matrix. Remember, we've got $\\frac{\\partial \\mathcal{L}}{\\partial z^{[2]}}$ and now we want $\\frac{\\partial \\mathcal{L}}{\\partial \\mathbf{B^{[2]}}}$. \n",
    "\n",
    "Like we did in the calculation of $\\frac{\\partial \\mathcal{L}}{\\partial \\mathbf{W^{[2]}}}$, we can apply the chain rule, element-wise. E.g. $\\frac{\\partial \\mathcal{L}}{\\partial \\mathbf{B^{[2]_{11}}}}$ would be:\n",
    "\n",
    "$$\n",
    "\\frac{\\partial \\mathcal{L}}{\\partial \\mathbf{B^{[2]}_{11}}} = \\frac{\\partial \\mathcal{L}}{\\partial z^{[2]}_{11}}\\frac{\\partial z^{[2]}_{11}}{\\partial \\mathbf{B^{[2]}_{11}}} + \\frac{\\partial \\mathcal{L}}{\\partial z^{[2]}_{12}}\\frac{\\partial z^{[2]}_{12}}{\\partial \\mathbf{B^{[2]}_{11}}} + \\cdots + \\frac{\\partial \\mathcal{L}}{\\partial z^{[2]}_{44}}\\frac{\\partial z^{[2]}_{44}}{\\partial \\mathbf{B^{[2]}_{11}}} \n",
    "$$\n",
    "\n",
    "Of course, many of these terms are zero because $\\frac{\\partial z^{[2]}_{k, l}}{\\partial \\mathbf{B^{[2]}_{i, j}}} = 0$ when $k \\neq i$ or $l \\neq j$. But rather than trying to reason about this ourselves or simplify by hand to work out what this is really saying, we can instead just use `matrix_matrix_chain_rule()` to do it for us: \n"
   ]
  },
  {
   "cell_type": "code",
   "execution_count": null,
   "metadata": {},
   "outputs": [
    {
     "data": {
      "text/markdown": [
       "$$\\begin{bmatrix}\n",
       "\\frac{\\partial}{\\partial {z^{[2]}}_{1,1}} \\mathcal{L}{\\left(y,\\hat{y} \\right)} & \\frac{\\partial}{\\partial {z^{[2]}}_{1,2}} \\mathcal{L}{\\left(y,\\hat{y} \\right)} & \\frac{\\partial}{\\partial {z^{[2]}}_{1,3}} \\mathcal{L}{\\left(y,\\hat{y} \\right)} & \\frac{\\partial}{\\partial {z^{[2]}}_{1,4}} \\mathcal{L}{\\left(y,\\hat{y} \\right)}\\\\\n",
       "\\frac{\\partial}{\\partial {z^{[2]}}_{2,1}} \\mathcal{L}{\\left(y,\\hat{y} \\right)} & \\frac{\\partial}{\\partial {z^{[2]}}_{2,2}} \\mathcal{L}{\\left(y,\\hat{y} \\right)} & \\frac{\\partial}{\\partial {z^{[2]}}_{2,3}} \\mathcal{L}{\\left(y,\\hat{y} \\right)} & \\frac{\\partial}{\\partial {z^{[2]}}_{2,4}} \\mathcal{L}{\\left(y,\\hat{y} \\right)}\\\\\n",
       "\\frac{\\partial}{\\partial {z^{[2]}}_{3,1}} \\mathcal{L}{\\left(y,\\hat{y} \\right)} & \\frac{\\partial}{\\partial {z^{[2]}}_{3,2}} \\mathcal{L}{\\left(y,\\hat{y} \\right)} & \\frac{\\partial}{\\partial {z^{[2]}}_{3,3}} \\mathcal{L}{\\left(y,\\hat{y} \\right)} & \\frac{\\partial}{\\partial {z^{[2]}}_{3,4}} \\mathcal{L}{\\left(y,\\hat{y} \\right)}\\\\\n",
       "\\frac{\\partial}{\\partial {z^{[2]}}_{4,1}} \\mathcal{L}{\\left(y,\\hat{y} \\right)} & \\frac{\\partial}{\\partial {z^{[2]}}_{4,2}} \\mathcal{L}{\\left(y,\\hat{y} \\right)} & \\frac{\\partial}{\\partial {z^{[2]}}_{4,3}} \\mathcal{L}{\\left(y,\\hat{y} \\right)} & \\frac{\\partial}{\\partial {z^{[2]}}_{4,4}} \\mathcal{L}{\\left(y,\\hat{y} \\right)}\\end{bmatrix}\n",
       "$$"
      ],
      "text/plain": [
       "<IPython.core.display.Markdown object>"
      ]
     },
     "execution_count": null,
     "metadata": {},
     "output_type": "execute_result"
    }
   ],
   "source": [
    "# Redo the calculation of z2 using the B2 matrix\n",
    "a1 = ndarray_of_indexed_base(IndexedBase(r'a^{[1]}'), (6, 6))\n",
    "W2 = ndarray_of_indexed_base(IndexedBase(r'W^{[2]}'), (3, 3))\n",
    "conv_result = convolve(a1, W2, 0, 1)\n",
    "B2 = ndarray_of_indexed_base(IndexedBase(r'B^{[2]}'), conv_result.shape)\n",
    "z2 = conv_result + B2\n",
    "\n",
    "# Compute dB2\n",
    "dB2 = matrix_matrix_chain_rule(dz2, z2, B2)\n",
    "\n",
    "Markdown(matrix_to_markdown(dB2))"
   ]
  },
  {
   "attachments": {},
   "cell_type": "markdown",
   "metadata": {},
   "source": [
    "Each element of this is the same as the corresponding element of $\\frac{\\partial \\mathcal{L}}{\\partial z^{[2]}}$. We can confirm that \n",
    "\n",
    "$$\n",
    "\\frac{\\partial \\mathcal{L}}{\\partial \\mathbf{B^{[2]}}} = \\frac{\\partial \\mathcal{L}}{\\partial z^{[2]}}\n",
    "$$\n",
    "\n",
    "in code: "
   ]
  },
  {
   "cell_type": "code",
   "execution_count": null,
   "metadata": {},
   "outputs": [],
   "source": [
    "test_eq(dB2, dz2)"
   ]
  }
 ],
 "metadata": {
  "kernelspec": {
   "display_name": "python3",
   "language": "python",
   "name": "python3"
  }
 },
 "nbformat": 4,
 "nbformat_minor": 4
}
